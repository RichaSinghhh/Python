{
 "cells": [
  {
   "cell_type": "markdown",
   "metadata": {},
   "source": [
    "# **Control Flow Statements**\n",
    "##  **if condition**"
   ]
  },
  {
   "cell_type": "markdown",
   "metadata": {},
   "source": [
    "##### Wap to calculate the percentage of a student in the subjects maths science social english and hindi."
   ]
  },
  {
   "cell_type": "code",
   "execution_count": 1,
   "metadata": {},
   "outputs": [
    {
     "name": "stdout",
     "output_type": "stream",
     "text": [
      "95 95 89 86 78 68\n",
      "the percent scored by student is  83.2\n"
     ]
    }
   ],
   "source": [
    "x = input(\"Enter the name of a student\")\n",
    "a = int(input(\"Enter the marks scored in english\"))\n",
    "b = int(input(\"Enter the marks scored in hindi\"))\n",
    "c = int(input(\"Enter the marks scored in maths\"))\n",
    "d = int(input(\"Enter the marks scored in science\"))\n",
    "e = int(input(\"Enter the marks scored in social\"))\n",
    "n = ((a+b+c+d+e)/500)*100\n",
    "print(x,a,b,c,d,e)\n",
    "print(\"the percent scored by student is \", n)\n"
   ]
  },
  {
   "cell_type": "code",
   "execution_count": 2,
   "metadata": {},
   "outputs": [
    {
     "name": "stdout",
     "output_type": "stream",
     "text": [
      "B grade\n"
     ]
    }
   ],
   "source": [
    "a = int(input(\"Enter the percentage scored by a student\"))\n",
    "if a >= 90:\n",
    "    print(\"A grade\")\n",
    "if a >= 75 and a<90:\n",
    "    print(\"B grade\")\n",
    "if a >= 65 and a < 75:\n",
    "    print(\"C grade\")\n",
    "\n"
   ]
  },
  {
   "cell_type": "markdown",
   "metadata": {},
   "source": [
    "### if else statement"
   ]
  },
  {
   "cell_type": "markdown",
   "metadata": {},
   "source": [
    "##### wap to display hello if number entered by a user is a multiple of 5 else print bye."
   ]
  },
  {
   "cell_type": "code",
   "execution_count": 3,
   "metadata": {},
   "outputs": [
    {
     "name": "stdout",
     "output_type": "stream",
     "text": [
      "bye\n"
     ]
    }
   ],
   "source": [
    "a = int(input(\"Enter a number\"))\n",
    "if a%5 == 0:\n",
    "    print(\"hello\")\n",
    "else:\n",
    "    print(\"bye\")"
   ]
  },
  {
   "cell_type": "code",
   "execution_count": 4,
   "metadata": {},
   "outputs": [
    {
     "name": "stdout",
     "output_type": "stream",
     "text": [
      "positive number\n"
     ]
    }
   ],
   "source": [
    "a = int(input(\"enter a number\"))\n",
    "if a > 0:\n",
    "    print(\"positive number\")\n",
    "else:\n",
    "    print(\"negative number\")"
   ]
  },
  {
   "cell_type": "markdown",
   "metadata": {},
   "source": [
    "### if - elif - else"
   ]
  },
  {
   "cell_type": "markdown",
   "metadata": {},
   "source": [
    "##### accept the city and print its monument\n",
    " - Delhi - Redfort\n",
    " - Agra - Taj mahal\n",
    " - Jaipur - Jalmahal\n",
    " - Orissa - Konak temple\n",
    " - Hyderabad - Charminar\n",
    " - Other - Record not found"
   ]
  },
  {
   "cell_type": "code",
   "execution_count": 5,
   "metadata": {},
   "outputs": [
    {
     "name": "stdout",
     "output_type": "stream",
     "text": [
      "The monument in delhi is redfort\n"
     ]
    }
   ],
   "source": [
    "city = input(\"enter the city\")\n",
    "if city == 'Delhi':\n",
    "    print(\"The monument in delhi is redfort\")\n",
    "elif city == \"Agra\":\n",
    "    print(\"The monument in agra is taj mahal\")\n",
    "elif city == 'Jaipur':\n",
    "    print(\"The monument in jaipur is jalmahal\")\n",
    "elif city == \"Orissa\":\n",
    "    print(\"the monument in orissa is konak temple\")\n",
    "elif city == \"Hyderabad\":\n",
    "    print(\"The monument in hyderabad is charminar\")\n",
    "else:\n",
    "    print(\"Record not found\")"
   ]
  }
 ],
 "metadata": {
  "kernelspec": {
   "display_name": "base",
   "language": "python",
   "name": "python3"
  },
  "language_info": {
   "codemirror_mode": {
    "name": "ipython",
    "version": 3
   },
   "file_extension": ".py",
   "mimetype": "text/x-python",
   "name": "python",
   "nbconvert_exporter": "python",
   "pygments_lexer": "ipython3",
   "version": "3.12.3"
  }
 },
 "nbformat": 4,
 "nbformat_minor": 2
}
