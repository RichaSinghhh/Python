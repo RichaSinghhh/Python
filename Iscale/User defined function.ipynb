{
 "cells": [
  {
   "cell_type": "markdown",
   "metadata": {},
   "source": [
    "# **User Defined Functions**"
   ]
  },
  {
   "cell_type": "markdown",
   "metadata": {},
   "source": [
    "#### creating a user defined function"
   ]
  },
  {
   "cell_type": "code",
   "execution_count": 4,
   "metadata": {},
   "outputs": [],
   "source": [
    "def my_function():\n",
    "    print(\"hello class\")\n",
    "    print(\"we are learning python\")"
   ]
  },
  {
   "cell_type": "markdown",
   "metadata": {},
   "source": [
    "#### calling a function"
   ]
  },
  {
   "cell_type": "code",
   "execution_count": 5,
   "metadata": {},
   "outputs": [
    {
     "name": "stdout",
     "output_type": "stream",
     "text": [
      "hello class\n",
      "we are learning python\n"
     ]
    }
   ],
   "source": [
    "my_function()"
   ]
  },
  {
   "cell_type": "markdown",
   "metadata": {},
   "source": [
    "#### Making the result of a student"
   ]
  },
  {
   "cell_type": "code",
   "execution_count": 2,
   "metadata": {},
   "outputs": [],
   "source": [
    "def contact():\n",
    "    print(\"Contact details of the school\")\n",
    "    print(\"Delhi Public School\")\n",
    "    print(\"Bangalore Karanatka\")\n",
    "    print(\"2345678991\")\n",
    "    print(\"dps.contact@gmail.com\")"
   ]
  },
  {
   "cell_type": "code",
   "execution_count": 3,
   "metadata": {},
   "outputs": [
    {
     "name": "stdout",
     "output_type": "stream",
     "text": [
      "Richa 99 98 97\n",
      "Contact details of the school\n",
      "Delhi Public School\n",
      "Bangalore Karanatka\n",
      "2345678991\n",
      "dps.contact@gmail.com\n",
      "Priya 85 98 75\n",
      "Contact details of the school\n",
      "Delhi Public School\n",
      "Bangalore Karanatka\n",
      "2345678991\n",
      "dps.contact@gmail.com\n"
     ]
    }
   ],
   "source": [
    "for i in range(2):\n",
    "    a = input(\"Enter the name of the student\")  \n",
    "    b = int(input(\"Enter the marks of maths\"))  \n",
    "    c = int(input(\"Enter the marks of social\")) \n",
    "    d = int(input(\"Enter the marks of science\"))\n",
    "    print(a,b,c,d)\n",
    "    contact()"
   ]
  },
  {
   "cell_type": "markdown",
   "metadata": {},
   "source": [
    "#### Arguments"
   ]
  },
  {
   "cell_type": "code",
   "execution_count": 1,
   "metadata": {},
   "outputs": [],
   "source": [
    "def my_function(fname):\n",
    "    print(fname +\" \"+ \"Singh\")"
   ]
  },
  {
   "cell_type": "code",
   "execution_count": 3,
   "metadata": {},
   "outputs": [
    {
     "name": "stdout",
     "output_type": "stream",
     "text": [
      "Pooja Singh\n",
      "Priya Singh\n",
      "Richa Singh\n"
     ]
    }
   ],
   "source": [
    "my_function(\"Pooja\")\n",
    "my_function(\"Priya\")\n",
    "my_function(\"Richa\")\n",
    "\n"
   ]
  },
  {
   "cell_type": "code",
   "execution_count": 5,
   "metadata": {},
   "outputs": [],
   "source": [
    "def my_function(fname,lname):\n",
    "    print(fname +\" \"+ lname)"
   ]
  },
  {
   "cell_type": "code",
   "execution_count": 7,
   "metadata": {},
   "outputs": [
    {
     "name": "stdout",
     "output_type": "stream",
     "text": [
      "Richa Singh\n"
     ]
    }
   ],
   "source": [
    "my_function(\"Richa\",\"Singh\")"
   ]
  },
  {
   "cell_type": "markdown",
   "metadata": {},
   "source": [
    "#### WAP to calculate the electricity bill.\n",
    " - if 500 unit used - pay rs 5 for each unit\n",
    " - if 700 unit used - pay rs 10 for each unit\n",
    " - if 1000 unit used - pay rs 15 for each unit\n",
    " - if more than 1000 unit used - pay 20 rs for each unit"
   ]
  },
  {
   "cell_type": "code",
   "execution_count": 10,
   "metadata": {},
   "outputs": [],
   "source": [
    "def electricity_bill(n):\n",
    "    if n <= 500:\n",
    "        print(\"your bill is rs\", n*5)\n",
    "    elif n >= 500 and n <= 700:\n",
    "        print(\"your bill is Rs\", n*10)\n",
    "    elif n>700 and n<=1000:\n",
    "        print(\"your bill is Rs\", n*15)\n",
    "    elif n>1000:\n",
    "        print(\"your bill is rs\",n*20)\n"
   ]
  },
  {
   "cell_type": "code",
   "execution_count": 11,
   "metadata": {},
   "outputs": [],
   "source": [
    "def instructions():\n",
    "    print(\"last date of paying the bill is 20 april\")\n",
    "    print(\"after 20 april you need to pay 1000 rs as a fine\")\n",
    "    print(\"electricity office new delhi\")"
   ]
  },
  {
   "cell_type": "code",
   "execution_count": 13,
   "metadata": {},
   "outputs": [
    {
     "name": "stdout",
     "output_type": "stream",
     "text": [
      "your bill is Rs 13455\n",
      "\n",
      "last date of paying the bill is 20 april\n",
      "after 20 april you need to pay 1000 rs as a fine\n",
      "electricity office new delhi\n",
      "your bill is Rs 5890\n",
      "\n",
      "last date of paying the bill is 20 april\n",
      "after 20 april you need to pay 1000 rs as a fine\n",
      "electricity office new delhi\n"
     ]
    }
   ],
   "source": [
    "for i in range(2):\n",
    "    a = input(\"Enter the name of a customer\")\n",
    "    n = int(input(\"Enter the unit of electricity you have used\"))\n",
    "    electricity_bill(n)\n",
    "    print()\n",
    "    instructions()"
   ]
  }
 ],
 "metadata": {
  "kernelspec": {
   "display_name": "base",
   "language": "python",
   "name": "python3"
  },
  "language_info": {
   "codemirror_mode": {
    "name": "ipython",
    "version": 3
   },
   "file_extension": ".py",
   "mimetype": "text/x-python",
   "name": "python",
   "nbconvert_exporter": "python",
   "pygments_lexer": "ipython3",
   "version": "3.12.3"
  }
 },
 "nbformat": 4,
 "nbformat_minor": 2
}
