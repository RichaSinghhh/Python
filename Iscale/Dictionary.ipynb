{
 "cells": [
  {
   "cell_type": "markdown",
   "metadata": {},
   "source": [
    "### Dictionary"
   ]
  },
  {
   "cell_type": "markdown",
   "metadata": {},
   "source": [
    "#### Creating a dictionary"
   ]
  },
  {
   "cell_type": "code",
   "execution_count": 24,
   "metadata": {},
   "outputs": [],
   "source": [
    "a = {\n",
    "    \"ID\" : \"123ab\",\n",
    "    \"color\": \"black\",\n",
    "    \"year\": 1964\n",
    "\n",
    "}"
   ]
  },
  {
   "cell_type": "code",
   "execution_count": 25,
   "metadata": {},
   "outputs": [
    {
     "name": "stdout",
     "output_type": "stream",
     "text": [
      "{'ID': '123ab', 'color': 'black', 'year': 1964}\n",
      "<class 'dict'>\n"
     ]
    }
   ],
   "source": [
    "print(a)\n",
    "print(type(a))"
   ]
  },
  {
   "cell_type": "code",
   "execution_count": 26,
   "metadata": {},
   "outputs": [
    {
     "name": "stdout",
     "output_type": "stream",
     "text": [
      "black\n"
     ]
    }
   ],
   "source": [
    "a = {\n",
    "    \"ID\" : \"123ab\",\n",
    "    \"color\": \"black\",\n",
    "    \"year\": 1964\n",
    "\n",
    "}\n",
    "print(a[\"color\"])"
   ]
  },
  {
   "cell_type": "markdown",
   "metadata": {},
   "source": [
    "### Duplicates allowed or not ?"
   ]
  },
  {
   "cell_type": "code",
   "execution_count": 27,
   "metadata": {},
   "outputs": [
    {
     "name": "stdout",
     "output_type": "stream",
     "text": [
      "{'ID': '123ab', 'color': 'black', 'year': 2000}\n"
     ]
    }
   ],
   "source": [
    "a = {\n",
    "    \"ID\" : \"123ab\",\n",
    "    \"color\": \"black\",\n",
    "    \"year\": 1964,\n",
    "    \"year\" : 2000\n",
    "\n",
    "}\n",
    "print(a) #duplicates not allowed."
   ]
  },
  {
   "cell_type": "markdown",
   "metadata": {},
   "source": [
    "### Dictionary length"
   ]
  },
  {
   "cell_type": "code",
   "execution_count": 28,
   "metadata": {},
   "outputs": [
    {
     "name": "stdout",
     "output_type": "stream",
     "text": [
      "3\n"
     ]
    }
   ],
   "source": [
    "a = {\n",
    "    \"ID\" : \"123ab\",\n",
    "    \"color\": \"black\",\n",
    "    \"year\": 1964\n",
    "\n",
    "}\n",
    "print(len(a))"
   ]
  },
  {
   "cell_type": "code",
   "execution_count": 29,
   "metadata": {},
   "outputs": [
    {
     "name": "stdout",
     "output_type": "stream",
     "text": [
      "{'ID': '123ab', 'color': 'black', 'year': 1964, 'a': [1, 2, 3, 4, 5], 'b': (2.2, 2.3, 2.4, 5.2), 'c': False}\n"
     ]
    }
   ],
   "source": [
    "dict = {\n",
    "    \"ID\" : \"123ab\",\n",
    "    \"color\": \"black\",\n",
    "    \"year\": 1964,\n",
    "    \"a\" : [1,2,3,4,5],\n",
    "    \"b\" : (2.2,2.3,2.4,5.2), #all type datatypes we can use.\n",
    "    \"c\" : False\n",
    "\n",
    "}\n",
    "print(dict)"
   ]
  },
  {
   "cell_type": "code",
   "execution_count": 30,
   "metadata": {},
   "outputs": [
    {
     "name": "stdout",
     "output_type": "stream",
     "text": [
      "Priya\n"
     ]
    }
   ],
   "source": [
    "a = {\"name\": \"Priya\", \"age\": 25, \"country\": \"India\"}\n",
    "print(a['name'])"
   ]
  },
  {
   "cell_type": "markdown",
   "metadata": {},
   "source": [
    "### Get method"
   ]
  },
  {
   "cell_type": "code",
   "execution_count": 31,
   "metadata": {},
   "outputs": [
    {
     "name": "stdout",
     "output_type": "stream",
     "text": [
      "Priya\n"
     ]
    }
   ],
   "source": [
    "a = {\"name\": \"Priya\", \"age\": 25, \"country\": \"India\"}\n",
    "print(a.get('name'))"
   ]
  },
  {
   "cell_type": "code",
   "execution_count": 32,
   "metadata": {},
   "outputs": [],
   "source": [
    "a = {\"name\": \"Priya\", \"age\": 25, \"country\": \"India\"}\n"
   ]
  },
  {
   "cell_type": "markdown",
   "metadata": {},
   "source": [
    "### Key function"
   ]
  },
  {
   "cell_type": "code",
   "execution_count": 33,
   "metadata": {},
   "outputs": [],
   "source": [
    "x = a.keys()"
   ]
  },
  {
   "cell_type": "code",
   "execution_count": 34,
   "metadata": {},
   "outputs": [
    {
     "data": {
      "text/plain": [
       "dict_keys(['name', 'age', 'country'])"
      ]
     },
     "execution_count": 34,
     "metadata": {},
     "output_type": "execute_result"
    }
   ],
   "source": [
    "x"
   ]
  },
  {
   "cell_type": "code",
   "execution_count": 35,
   "metadata": {},
   "outputs": [],
   "source": [
    "a = {\"name\": \"Priya\", \"age\": 25, \"country\": \"India\"}"
   ]
  },
  {
   "cell_type": "code",
   "execution_count": 36,
   "metadata": {},
   "outputs": [],
   "source": [
    "y = a.values()"
   ]
  },
  {
   "cell_type": "code",
   "execution_count": 37,
   "metadata": {},
   "outputs": [
    {
     "data": {
      "text/plain": [
       "dict_values(['Priya', 25, 'India'])"
      ]
     },
     "execution_count": 37,
     "metadata": {},
     "output_type": "execute_result"
    }
   ],
   "source": [
    "y"
   ]
  },
  {
   "cell_type": "markdown",
   "metadata": {},
   "source": [
    "### Changes in dictionary"
   ]
  },
  {
   "cell_type": "code",
   "execution_count": 38,
   "metadata": {},
   "outputs": [
    {
     "name": "stdout",
     "output_type": "stream",
     "text": [
      "{'name': 'Priya', 'age': 28, 'country': 'India'}\n"
     ]
    }
   ],
   "source": [
    "a = {\"name\": \"Priya\",\n",
    "      \"age\": 25, \n",
    "      \"country\": \"India\"}\n",
    "a['age'] = 28\n",
    "print(a)"
   ]
  },
  {
   "cell_type": "markdown",
   "metadata": {},
   "source": [
    "### Add function"
   ]
  },
  {
   "cell_type": "code",
   "execution_count": 39,
   "metadata": {},
   "outputs": [
    {
     "name": "stdout",
     "output_type": "stream",
     "text": [
      "{'name': 'Priya', 'age': 28, 'country': 'India', 'gender': 'female'}\n"
     ]
    }
   ],
   "source": [
    "a = {\"name\": \"Priya\",\n",
    "      \"age\": 25, \n",
    "      \"country\": \"India\",\"gender\": \"female\"}\n",
    "a['age'] = 28\n",
    "print(a)"
   ]
  },
  {
   "cell_type": "markdown",
   "metadata": {},
   "source": [
    "### Update function"
   ]
  },
  {
   "cell_type": "code",
   "execution_count": 40,
   "metadata": {},
   "outputs": [
    {
     "name": "stdout",
     "output_type": "stream",
     "text": [
      "{'name': 'Priya', 'age': 25, 'country': 'India', 'gender': 'female', 'mail.id': 'richa797926@gmail.com'}\n"
     ]
    }
   ],
   "source": [
    "a = {\"name\": \"Priya\",\n",
    "      \"age\": 25, \n",
    "      \"country\": \"India\",\"gender\": \"female\"}\n",
    "a.update({\"mail.id\":\"richa797926@gmail.com\"})\n",
    "print(a)"
   ]
  },
  {
   "cell_type": "markdown",
   "metadata": {},
   "source": [
    "### Pop function"
   ]
  },
  {
   "cell_type": "code",
   "execution_count": 41,
   "metadata": {},
   "outputs": [
    {
     "name": "stdout",
     "output_type": "stream",
     "text": [
      "{'name': 'Priya', 'country': 'India', 'gender': 'female'}\n"
     ]
    }
   ],
   "source": [
    "a = {\"name\": \"Priya\",\n",
    "      \"age\": 25, \n",
    "      \"country\": \"India\",\"gender\": \"female\"}\n",
    "a.pop(\"age\")\n",
    "print(a)"
   ]
  },
  {
   "cell_type": "markdown",
   "metadata": {},
   "source": [
    "### Delete function"
   ]
  },
  {
   "cell_type": "code",
   "execution_count": 42,
   "metadata": {},
   "outputs": [
    {
     "name": "stdout",
     "output_type": "stream",
     "text": [
      "{'name': 'Priya', 'country': 'India', 'gender': 'female'}\n"
     ]
    }
   ],
   "source": [
    "a = {\"name\": \"Priya\",\n",
    "      \"age\": 25, \n",
    "      \"country\": \"India\",\"gender\": \"female\"}\n",
    "del a [\"age\"]\n",
    "print(a)"
   ]
  },
  {
   "cell_type": "markdown",
   "metadata": {},
   "source": [
    "#### pop and delete function both are similar"
   ]
  },
  {
   "cell_type": "markdown",
   "metadata": {},
   "source": [
    "### Clear function"
   ]
  },
  {
   "cell_type": "code",
   "execution_count": 43,
   "metadata": {},
   "outputs": [
    {
     "name": "stdout",
     "output_type": "stream",
     "text": [
      "{}\n",
      "<class 'dict'>\n"
     ]
    }
   ],
   "source": [
    "a = {\"name\": \"Priya\",\n",
    "      \"age\": 25, \n",
    "      \"country\": \"India\",\"gender\": \"female\"}\n",
    "a.clear()\n",
    "print(a)\n",
    "print(type(a))"
   ]
  },
  {
   "cell_type": "markdown",
   "metadata": {},
   "source": [
    "### Concatenation"
   ]
  },
  {
   "cell_type": "code",
   "execution_count": 44,
   "metadata": {},
   "outputs": [
    {
     "name": "stdout",
     "output_type": "stream",
     "text": [
      "{1: 10, 2: 20, 3: 30, 4: 40, 5: 50, 6: 60}\n"
     ]
    }
   ],
   "source": [
    "dict1 = {1:10,2:20}\n",
    "dict2 = {3:30,4:40}\n",
    "dict3 = {5:50,6:60}\n",
    "dict4 = {}\n",
    "for d in (dict1,dict2,dict3): dict4.update(d)\n",
    "print(dict4)"
   ]
  },
  {
   "cell_type": "markdown",
   "metadata": {},
   "source": [
    "#### Print a dictionary where the keys are numbers b/w 1 and 15 and the values are square of keys (like this 3:9 5:25)"
   ]
  },
  {
   "cell_type": "code",
   "execution_count": 9,
   "metadata": {},
   "outputs": [
    {
     "name": "stdout",
     "output_type": "stream",
     "text": [
      "16\n"
     ]
    }
   ],
   "source": [
    "d = dict()\n",
    "for x in range(1,16):\n",
    "    d[x] = x**2\n",
    "    x+=1\n",
    "print(x)\n"
   ]
  },
  {
   "cell_type": "markdown",
   "metadata": {},
   "source": [
    "#### check whether a given key already exists in a dictionary"
   ]
  },
  {
   "cell_type": "code",
   "execution_count": 46,
   "metadata": {},
   "outputs": [
    {
     "name": "stdout",
     "output_type": "stream",
     "text": [
      "key is present in the dictionary\n",
      "key is not present in the dictionary\n"
     ]
    }
   ],
   "source": [
    "d = {1:10, 2:20, 3:30, 4:40, 5:50, 6:60}\n",
    "def is_key_present(x):\n",
    "    if x in d:\n",
    "        print(\"key is present in the dictionary\")\n",
    "    else:\n",
    "        print(\"key is not present in the dictionary\")\n",
    "is_key_present(5)\n",
    "is_key_present(9)"
   ]
  },
  {
   "cell_type": "code",
   "execution_count": 47,
   "metadata": {},
   "outputs": [
    {
     "name": "stdout",
     "output_type": "stream",
     "text": [
      "key is present in the dictionary\n"
     ]
    }
   ],
   "source": [
    "is_key_present(5)"
   ]
  },
  {
   "cell_type": "code",
   "execution_count": 48,
   "metadata": {},
   "outputs": [
    {
     "name": "stdout",
     "output_type": "stream",
     "text": [
      "key is not present in the dictionary\n"
     ]
    }
   ],
   "source": [
    "is_key_present(10)"
   ]
  }
 ],
 "metadata": {
  "kernelspec": {
   "display_name": "base",
   "language": "python",
   "name": "python3"
  },
  "language_info": {
   "codemirror_mode": {
    "name": "ipython",
    "version": 3
   },
   "file_extension": ".py",
   "mimetype": "text/x-python",
   "name": "python",
   "nbconvert_exporter": "python",
   "pygments_lexer": "ipython3",
   "version": "3.12.3"
  }
 },
 "nbformat": 4,
 "nbformat_minor": 2
}
