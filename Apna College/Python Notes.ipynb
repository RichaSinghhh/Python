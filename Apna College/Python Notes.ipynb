{
 "cells": [
  {
   "cell_type": "markdown",
   "metadata": {},
   "source": [
    "# **Variables & data types**"
   ]
  },
  {
   "cell_type": "code",
   "execution_count": 1,
   "metadata": {},
   "outputs": [
    {
     "name": "stdout",
     "output_type": "stream",
     "text": [
      "Richa\n",
      "22\n",
      "my name is: Richa\n",
      "22\n"
     ]
    }
   ],
   "source": [
    "name=\"Richa\"\n",
    "age=\"22\"\n",
    "price=\"25\"\n",
    "\n",
    "age2 = age\n",
    "print(name)\n",
    "print(age)\n",
    "print(\"my name is:\",name)\n",
    "print(age2)"
   ]
  },
  {
   "cell_type": "code",
   "execution_count": 403,
   "metadata": {},
   "outputs": [
    {
     "name": "stdout",
     "output_type": "stream",
     "text": [
      "richa\n",
      "richa\n"
     ]
    }
   ],
   "source": [
    "name = ('''richa''')\n",
    "name2=('richa')\n",
    "print(name)\n",
    "print(name)"
   ]
  },
  {
   "cell_type": "code",
   "execution_count": 404,
   "metadata": {},
   "outputs": [
    {
     "name": "stdout",
     "output_type": "stream",
     "text": [
      "<class 'bool'>\n",
      "<class 'NoneType'>\n"
     ]
    }
   ],
   "source": [
    "age = 22\n",
    "old = False\n",
    "a = None\n",
    "print(type(old))\n",
    "print(type(a))\n"
   ]
  },
  {
   "cell_type": "code",
   "execution_count": 405,
   "metadata": {},
   "outputs": [
    {
     "name": "stdout",
     "output_type": "stream",
     "text": [
      "2400\n"
     ]
    }
   ],
   "source": [
    "a = 2000\n",
    "b = 400\n",
    "sum = a+b\n",
    "print(sum)"
   ]
  },
  {
   "cell_type": "code",
   "execution_count": 406,
   "metadata": {},
   "outputs": [
    {
     "name": "stdout",
     "output_type": "stream",
     "text": [
      "hello world\n"
     ]
    },
    {
     "data": {
      "text/plain": [
       "'\\nmulti-line comment ( #its a comment)\\n'"
      ]
     },
     "execution_count": 406,
     "metadata": {},
     "output_type": "execute_result"
    }
   ],
   "source": [
    "print(\"hello world\")\n",
    "\"\"\"\n",
    "multi-line comment ( #its a comment)\n",
    "\"\"\""
   ]
  },
  {
   "cell_type": "code",
   "execution_count": 407,
   "metadata": {},
   "outputs": [
    {
     "name": "stdout",
     "output_type": "stream",
     "text": [
      "6\n",
      "2\n",
      "8\n",
      "2.0\n",
      "0\n",
      "16\n"
     ]
    }
   ],
   "source": [
    "#arithmetic operators\n",
    "a=4\n",
    "b=2\n",
    "print(a+b)\n",
    "print(a-b)\n",
    "print(a*b)\n",
    "print(a/b)\n",
    "print(a % b) #remainder\n",
    "print(a**b) #a^b"
   ]
  },
  {
   "cell_type": "code",
   "execution_count": 408,
   "metadata": {},
   "outputs": [
    {
     "name": "stdout",
     "output_type": "stream",
     "text": [
      "False\n",
      "True\n",
      "True\n",
      "True\n",
      "False\n",
      "False\n"
     ]
    }
   ],
   "source": [
    "#comparison/relational operators\n",
    "a= 50\n",
    "b=20\n",
    "\n",
    "print(a==b) #False\n",
    "print(a != b) #True\n",
    "print(a >= b) #True\n",
    "print(a > b) #True\n",
    "print(a <= b) #False\n",
    "print(a < b) #False\n"
   ]
  },
  {
   "cell_type": "code",
   "execution_count": 409,
   "metadata": {},
   "outputs": [
    {
     "name": "stdout",
     "output_type": "stream",
     "text": [
      "num: 20\n",
      "num: 10\n",
      "num: 300\n",
      "num: 2.0\n",
      "num: 0\n",
      "num: 100000\n"
     ]
    }
   ],
   "source": [
    "#assignment operators\n",
    "num = 10\n",
    "num += 10  #num+10 or num+= 10\n",
    "print(\"num:\",num)\n",
    "num = 20\n",
    "num -= 10\n",
    "print(\"num:\",num)\n",
    "num = 30\n",
    "num *= 10\n",
    "print(\"num:\",num)\n",
    "num = 10\n",
    "num /= 5\n",
    "print(\"num:\",num)\n",
    "num = 50\n",
    "num %= 5\n",
    "print(\"num:\",num)\n",
    "num = 10\n",
    "num **=5\n",
    "print(\"num:\",num)\n"
   ]
  },
  {
   "cell_type": "code",
   "execution_count": 410,
   "metadata": {},
   "outputs": [
    {
     "name": "stdout",
     "output_type": "stream",
     "text": [
      "True\n",
      "False\n"
     ]
    }
   ],
   "source": [
    "#logical operators\n",
    "a = 50\n",
    "b = 30\n",
    "print(not a<b)\n",
    "print(not a>b)"
   ]
  },
  {
   "cell_type": "code",
   "execution_count": 411,
   "metadata": {},
   "outputs": [
    {
     "name": "stdout",
     "output_type": "stream",
     "text": [
      "and operator: False\n",
      "or operator: True\n"
     ]
    }
   ],
   "source": [
    "value1 = True\n",
    "value2 = False\n",
    "print(\"and operator:\", value1 and value2)\n",
    "print(\"or operator:\", value1 or value2)"
   ]
  },
  {
   "cell_type": "code",
   "execution_count": 412,
   "metadata": {},
   "outputs": [
    {
     "name": "stdout",
     "output_type": "stream",
     "text": [
      "6.25\n"
     ]
    }
   ],
   "source": [
    "#type conversion\n",
    "a = 2\n",
    "b = 4.25\n",
    "sum = a + b # 2.0 + 4.25 => 6.25\n",
    "print(sum)"
   ]
  },
  {
   "cell_type": "code",
   "execution_count": 413,
   "metadata": {},
   "outputs": [
    {
     "name": "stdout",
     "output_type": "stream",
     "text": [
      "<class 'int'>\n",
      "6.25\n"
     ]
    }
   ],
   "source": [
    "#type casting\n",
    "a = int(\"2\")\n",
    "b = 4.25\n",
    "print(type(a))\n",
    "print(a+ b)"
   ]
  },
  {
   "cell_type": "code",
   "execution_count": 414,
   "metadata": {},
   "outputs": [],
   "source": [
    "# a = 3.14\n",
    "# a = str(a)\n",
    "# print(type(a))\n"
   ]
  },
  {
   "cell_type": "code",
   "execution_count": 415,
   "metadata": {},
   "outputs": [
    {
     "name": "stdout",
     "output_type": "stream",
     "text": [
      "you entered 22\n"
     ]
    }
   ],
   "source": [
    "name = input(\"enter youtr age\")\n",
    "print(\"you entered\",name)"
   ]
  },
  {
   "cell_type": "code",
   "execution_count": 416,
   "metadata": {},
   "outputs": [
    {
     "name": "stdout",
     "output_type": "stream",
     "text": [
      "<class 'int'> 56\n"
     ]
    }
   ],
   "source": [
    "val = int(input(\"enter some value\"))\n",
    "print(type(val), val)"
   ]
  },
  {
   "cell_type": "code",
   "execution_count": 417,
   "metadata": {},
   "outputs": [
    {
     "name": "stdout",
     "output_type": "stream",
     "text": [
      "welcome richa\n",
      "age = 22\n",
      "marks = 89.0\n"
     ]
    }
   ],
   "source": [
    "name = input(\"enter name\")\n",
    "age = input(\"enter age\")\n",
    "marks =float (input(\"enter marks\"))\n",
    "print(\"welcome\",name)\n",
    "print(\"age =\",age)\n",
    "print(\"marks =\",marks)\n"
   ]
  },
  {
   "cell_type": "code",
   "execution_count": 418,
   "metadata": {},
   "outputs": [
    {
     "name": "stdout",
     "output_type": "stream",
     "text": [
      "178\n"
     ]
    }
   ],
   "source": [
    "num1 = int(input(\"enter a no\"))\n",
    "num2 = int(input(\"enter second no\"))\n",
    "print  (num1 + num2)"
   ]
  },
  {
   "cell_type": "code",
   "execution_count": 419,
   "metadata": {},
   "outputs": [
    {
     "name": "stdout",
     "output_type": "stream",
     "text": [
      "my name is richa \n",
      "my age is 22\n"
     ]
    }
   ],
   "source": [
    "\n",
    "a = \"my name is richa \\nmy age is 22\"\n",
    "print (a)"
   ]
  },
  {
   "cell_type": "code",
   "execution_count": 420,
   "metadata": {},
   "outputs": [
    {
     "name": "stdout",
     "output_type": "stream",
     "text": [
      "i'm very depressed girl.\ti'm very rude\n"
     ]
    }
   ],
   "source": [
    "b = \"i'm very depressed girl.\\ti'm very rude\"\n",
    "print(b)"
   ]
  },
  {
   "cell_type": "code",
   "execution_count": 421,
   "metadata": {},
   "outputs": [
    {
     "name": "stdout",
     "output_type": "stream",
     "text": [
      "richasingh\n"
     ]
    }
   ],
   "source": [
    "a = \"richa\" #concatenation\n",
    "b = \"singh\"\n",
    "print(a+b)"
   ]
  },
  {
   "cell_type": "code",
   "execution_count": 422,
   "metadata": {},
   "outputs": [
    {
     "name": "stdout",
     "output_type": "stream",
     "text": [
      "richa singh\n",
      "5\n",
      "richasingh\n"
     ]
    }
   ],
   "source": [
    "str1 = \"richa\" #length cont\n",
    "str2 = \"singh\"\n",
    "final_str = str1 + \" \" + str2 #for space\n",
    "print(final_str)\n",
    "\n",
    "print(len(str1))\n",
    "print(str1 + str2)"
   ]
  },
  {
   "cell_type": "code",
   "execution_count": 423,
   "metadata": {},
   "outputs": [
    {
     "name": "stdout",
     "output_type": "stream",
     "text": [
      "h\n"
     ]
    }
   ],
   "source": [
    "str = \"richa singh\" #indexing\n",
    "     # 012345678910\n",
    "ch = str[10]\n",
    "print(ch)"
   ]
  },
  {
   "cell_type": "code",
   "execution_count": 424,
   "metadata": {},
   "outputs": [
    {
     "name": "stdout",
     "output_type": "stream",
     "text": [
      "pna \n",
      "college\n",
      "college\n",
      "apna\n"
     ]
    }
   ],
   "source": [
    "#slicing\n",
    "str = \"apna college\"\n",
    "print(str[1:5]) \n",
    "print(str[5:len(str)])\n",
    "print(str[5:]) #[5:len(str)]\n",
    "print(str[:4]) #[0:4]"
   ]
  },
  {
   "cell_type": "code",
   "execution_count": 425,
   "metadata": {},
   "outputs": [
    {
     "name": "stdout",
     "output_type": "stream",
     "text": [
      "appl\n",
      "pl\n"
     ]
    }
   ],
   "source": [
    "#slicing(negative index)\n",
    "\n",
    "str = \"apple\"\n",
    "    #-5-4-3-2-1\n",
    "print(str[-5:-1])\n",
    "print(str[-3:-1])\n"
   ]
  },
  {
   "cell_type": "code",
   "execution_count": 426,
   "metadata": {},
   "outputs": [
    {
     "name": "stdout",
     "output_type": "stream",
     "text": [
      "True\n",
      "False\n",
      "I am studying python from apna college\n"
     ]
    }
   ],
   "source": [
    "#String function\n",
    "str = \"i am studying python from Apna college\"\n",
    "print(str.endswith(\"ege\"))\n",
    "print(str.endswith(\"app\"))\n",
    "str = str.capitalize()\n",
    "print(str)"
   ]
  },
  {
   "cell_type": "code",
   "execution_count": 427,
   "metadata": {},
   "outputs": [
    {
     "name": "stdout",
     "output_type": "stream",
     "text": [
      "i am studying pythan fram Apna callege\n",
      "i am studying javascript from Apna college\n"
     ]
    }
   ],
   "source": [
    "str = \"i am studying python from Apna college\"\n",
    "print(str.replace(\"o\",\"a\"))\n",
    "print(str.replace(\"python\", \"javascript\"))"
   ]
  },
  {
   "cell_type": "code",
   "execution_count": 428,
   "metadata": {},
   "outputs": [
    {
     "name": "stdout",
     "output_type": "stream",
     "text": [
      "18\n",
      "5\n",
      "-1\n"
     ]
    }
   ],
   "source": [
    "str = \"i am studying python from Apna college\"\n",
    "print(str.find(\"o\"))\n",
    "str = \"i am from studying python from Apna college\"\n",
    "print(str.find(\"from\"))\n",
    "print(str.find(\"Q\"))"
   ]
  },
  {
   "cell_type": "code",
   "execution_count": 429,
   "metadata": {},
   "outputs": [
    {
     "name": "stdout",
     "output_type": "stream",
     "text": [
      "1\n"
     ]
    }
   ],
   "source": [
    "str = \"i am studying python from Apna college\"\n",
    "print(str.count(\"from\"))"
   ]
  },
  {
   "cell_type": "code",
   "execution_count": 430,
   "metadata": {},
   "outputs": [
    {
     "name": "stdout",
     "output_type": "stream",
     "text": [
      "0\n"
     ]
    }
   ],
   "source": [
    "str = input(\"richa\")\n",
    "print(len(str))"
   ]
  },
  {
   "cell_type": "code",
   "execution_count": 431,
   "metadata": {},
   "outputs": [
    {
     "name": "stdout",
     "output_type": "stream",
     "text": [
      "3\n"
     ]
    }
   ],
   "source": [
    "str= (\"hi,$iam the $ symbol $99.99\")\n",
    "print(str.count(\"$\"))"
   ]
  },
  {
   "cell_type": "code",
   "execution_count": 432,
   "metadata": {},
   "outputs": [
    {
     "name": "stdout",
     "output_type": "stream",
     "text": [
      "can vote\n",
      "can drive\n"
     ]
    }
   ],
   "source": [
    "#Conditional Statements\n",
    "#if-elif-else(syntax)\n",
    "age = 24\n",
    "if(age>= 18):\n",
    "    print(\"can vote\")\n",
    "    print(\"can drive\")\n"
   ]
  },
  {
   "cell_type": "code",
   "execution_count": 433,
   "metadata": {},
   "outputs": [
    {
     "name": "stdout",
     "output_type": "stream",
     "text": [
      "go\n"
     ]
    }
   ],
   "source": [
    "light = \"green\"\n",
    "if(light == \"red\"):\n",
    "    print(\"stop\")\n",
    "elif(light == \"green\"):\n",
    "    print(\"go\")\n",
    "elif(light == \"yellow\"):\n",
    "    print(\"look\")\n",
    "    print(\"end of code\")\n",
    "\n"
   ]
  },
  {
   "cell_type": "code",
   "execution_count": 434,
   "metadata": {},
   "outputs": [
    {
     "name": "stdout",
     "output_type": "stream",
     "text": [
      "greater than 2\n",
      "greater than 3\n"
     ]
    }
   ],
   "source": [
    "num = 5\n",
    "if(num >2):\n",
    "    print(\"greater than 2\")\n",
    "if(num > 3):\n",
    "    print(\"greater than 3\")"
   ]
  },
  {
   "cell_type": "code",
   "execution_count": 435,
   "metadata": {},
   "outputs": [
    {
     "name": "stdout",
     "output_type": "stream",
     "text": [
      "greater than 2\n"
     ]
    }
   ],
   "source": [
    "num = 5\n",
    "if(num >2):\n",
    "    print(\"greater than 2\")\n",
    "elif(num > 3):\n",
    "    print(\"greater than 3\")"
   ]
  },
  {
   "cell_type": "code",
   "execution_count": 436,
   "metadata": {},
   "outputs": [
    {
     "name": "stdout",
     "output_type": "stream",
     "text": [
      "light is broken\n"
     ]
    }
   ],
   "source": [
    "light = \"pink\"\n",
    "if(light == \"red\"):\n",
    "    print(\"stop\") #indentation(proper spacing)\n",
    "elif(light == \"green\"):\n",
    "    print(\"go\")\n",
    "elif(light == \"yellow\"):\n",
    "    print(\"look\")\n",
    "else:\n",
    "    print(\"light is broken\")\n"
   ]
  },
  {
   "cell_type": "code",
   "execution_count": 437,
   "metadata": {},
   "outputs": [
    {
     "name": "stdout",
     "output_type": "stream",
     "text": [
      "grade b\n"
     ]
    }
   ],
   "source": [
    "marks =int(input(\"enter marks\"))\n",
    "if (marks >= 90):\n",
    "    print(\"grade A\")\n",
    "elif(marks >= 80):\n",
    "    print(\"grade b\")\n",
    "elif(marks >=70):\n",
    "    print(\"grade c\")\n",
    "elif(marks >= 60):\n",
    "    print(\"grade d\")\n",
    "else:\n",
    "    print(\"fail\")"
   ]
  },
  {
   "cell_type": "code",
   "execution_count": 438,
   "metadata": {},
   "outputs": [
    {
     "name": "stdout",
     "output_type": "stream",
     "text": [
      "grade of the student -> B\n"
     ]
    }
   ],
   "source": [
    "marks = int(input(\"enter student marks:\"))\n",
    "if(marks>=90):\n",
    "    grade = \"A\"\n",
    "elif(marks >= 80 and marks < 90):\n",
    "    grade = \"B\"\n",
    "elif(marks >= 75 and marks < 80):\n",
    "    grade = \"C\"\n",
    "else:\n",
    "    grade = \"D\"\n",
    "print(\"grade of the student ->\", grade)\n"
   ]
  },
  {
   "cell_type": "code",
   "execution_count": 439,
   "metadata": {},
   "outputs": [
    {
     "name": "stdout",
     "output_type": "stream",
     "text": [
      "cannot drive\n"
     ]
    }
   ],
   "source": [
    "#nesting\n",
    "age = 90\n",
    "if (age >= 18):\n",
    "    if(age >= 80):\n",
    "        print(\"cannot drive\")\n",
    "    else:\n",
    "        print(\"can drive\")\n",
    "else:\n",
    "    print(\"cannot drive\")\n"
   ]
  },
  {
   "cell_type": "code",
   "execution_count": 440,
   "metadata": {},
   "outputs": [
    {
     "name": "stdout",
     "output_type": "stream",
     "text": [
      "odd\n"
     ]
    }
   ],
   "source": [
    "num = int(input(\"enter number\"))\n",
    "rem = num % 2\n",
    "if (rem == 0):\n",
    "    print(\"even\")\n",
    "else:\n",
    "    print(\"odd\")"
   ]
  },
  {
   "cell_type": "code",
   "execution_count": 441,
   "metadata": {},
   "outputs": [
    {
     "name": "stdout",
     "output_type": "stream",
     "text": [
      "odd\n"
     ]
    }
   ],
   "source": [
    "num = int(input(\"enter number\"))\n",
    "if (num % 2 == 0):\n",
    "    print(\"even\")\n",
    "else:\n",
    "    print(\"odd\")"
   ]
  },
  {
   "cell_type": "code",
   "execution_count": 442,
   "metadata": {},
   "outputs": [
    {
     "name": "stdout",
     "output_type": "stream",
     "text": [
      "second number is greatest 566\n"
     ]
    }
   ],
   "source": [
    "a = int(input(\"enter first number\"))\n",
    "b = int(input(\"enter second number\"))\n",
    "c = int(input(\"enter third number\"))\n",
    "if (a>=b and a>=c):\n",
    "    print(\"first number is greatest\",a)\n",
    "elif (b>=c):\n",
    "    print(\"second number is greatest\", b)\n",
    "else:\n",
    "    print(\"third number is greatest\",c)"
   ]
  },
  {
   "cell_type": "code",
   "execution_count": 443,
   "metadata": {},
   "outputs": [
    {
     "name": "stdout",
     "output_type": "stream",
     "text": [
      "second number is greatest 566\n"
     ]
    }
   ],
   "source": [
    "a = int(input(\"enter first number\"))\n",
    "b = int(input(\"enter second number\"))\n",
    "c = int(input(\"enter third number\"))\n",
    "d = int (input(\"enter fourth number\"))\n",
    "if (a>b and a>d):\n",
    "    print(\"first number is greatest\",a)\n",
    "elif (b>c):\n",
    "    print(\"second number is greatest\", b)\n",
    "elif(c>d):\n",
    "    print(\"third number is greatest\", c)\n",
    "elif (d>b):\n",
    "    print(\"fourth number is greatest\",d)\n",
    "else:\n",
    "    print(\"done\" )\n"
   ]
  },
  {
   "cell_type": "code",
   "execution_count": 444,
   "metadata": {},
   "outputs": [
    {
     "name": "stdout",
     "output_type": "stream",
     "text": [
      "multiple of 7\n"
     ]
    }
   ],
   "source": [
    "x = int(input(\"enter number\"))\n",
    "if (x % 7 == 0):\n",
    "    print(\"multiple of 7\")\n",
    "else:\n",
    "    print(\"not a multiple\")"
   ]
  },
  {
   "cell_type": "code",
   "execution_count": 445,
   "metadata": {},
   "outputs": [
    {
     "name": "stdout",
     "output_type": "stream",
     "text": [
      "[94.4, 87.5, 95.2, 66.4, 45.1]\n",
      "<class 'list'>\n",
      "5\n",
      "94.4\n",
      "87.5\n"
     ]
    }
   ],
   "source": [
    "\n",
    "# Lists\n",
    "\n",
    "marks = [94.4, 87.5, 95.2, 66.4, 45.1]\n",
    "print(marks)\n",
    "print(type(marks))\n",
    "print(len(marks))\n",
    "print(marks[0])\n",
    "print(marks[1])\n"
   ]
  },
  {
   "cell_type": "code",
   "execution_count": 446,
   "metadata": {},
   "outputs": [
    {
     "name": "stdout",
     "output_type": "stream",
     "text": [
      "Richa\n",
      "['singh', 85, 'lucknow']\n"
     ]
    }
   ],
   "source": [
    "student = [\"Richa\", 85, \"lucknow\"]\n",
    "print (student[0]) #indices ki range me hi value excess kr skte h\n",
    "student[0] = \"singh\"\n",
    "print(student)\n"
   ]
  },
  {
   "cell_type": "code",
   "execution_count": 447,
   "metadata": {},
   "outputs": [
    {
     "name": "stdout",
     "output_type": "stream",
     "text": [
      "[94, 76, 63]\n",
      "[85, 94, 76, 63]\n",
      "[94, 76, 63, 48]\n",
      "[76, 63]\n"
     ]
    }
   ],
   "source": [
    "#list Slicing\n",
    "marks = [85, 94, 76, 63, 48 ]\n",
    "print(marks[1:4])\n",
    "print(marks[:4])\n",
    "print(marks[1:])\n",
    "print(marks[-3:-1])"
   ]
  },
  {
   "cell_type": "code",
   "execution_count": 448,
   "metadata": {},
   "outputs": [
    {
     "name": "stdout",
     "output_type": "stream",
     "text": [
      "[2, 1, 3, 4]\n"
     ]
    }
   ],
   "source": [
    "#list Methods\n",
    "list = [2, 1, 3]\n",
    "list.append(4)\n",
    "print(list)\n"
   ]
  },
  {
   "cell_type": "code",
   "execution_count": 449,
   "metadata": {},
   "outputs": [
    {
     "name": "stdout",
     "output_type": "stream",
     "text": [
      "None\n",
      "None\n",
      "[1, 2, 3, 4]\n"
     ]
    }
   ],
   "source": [
    "list = [2, 1, 3]\n",
    "print(list.append(4))\n",
    "print (list.sort())\n",
    "print (list)"
   ]
  },
  {
   "cell_type": "code",
   "execution_count": 450,
   "metadata": {},
   "outputs": [
    {
     "name": "stdout",
     "output_type": "stream",
     "text": [
      "None\n",
      "None\n",
      "[4, 3, 2, 1]\n"
     ]
    }
   ],
   "source": [
    "list = [2, 1, 3]\n",
    "print(list.append(4))\n",
    "print (list.sort(reverse= True))\n",
    "print (list)"
   ]
  },
  {
   "cell_type": "code",
   "execution_count": 451,
   "metadata": {},
   "outputs": [
    {
     "name": "stdout",
     "output_type": "stream",
     "text": [
      "None\n",
      "['litchi', 'banana', 'apple']\n"
     ]
    }
   ],
   "source": [
    "list = [\"banana\",\"litchi\",\"apple\"]\n",
    "print (list.sort(reverse= True))\n",
    "print (list)"
   ]
  },
  {
   "cell_type": "code",
   "execution_count": 452,
   "metadata": {},
   "outputs": [
    {
     "name": "stdout",
     "output_type": "stream",
     "text": [
      "None\n",
      "['apple', 'banana', 'litchi']\n"
     ]
    }
   ],
   "source": [
    "list = [\"banana\",\"litchi\",\"apple\"]\n",
    "print (list.sort())\n",
    "print (list)"
   ]
  },
  {
   "cell_type": "code",
   "execution_count": 453,
   "metadata": {},
   "outputs": [
    {
     "name": "stdout",
     "output_type": "stream",
     "text": [
      "['b', 'c', 'f', 'e', 'b', 'a']\n"
     ]
    }
   ],
   "source": [
    "list = ['a', 'b','e', 'f', 'c', 'b']\n",
    "list.reverse()\n",
    "print(list)"
   ]
  },
  {
   "cell_type": "code",
   "execution_count": 454,
   "metadata": {},
   "outputs": [
    {
     "name": "stdout",
     "output_type": "stream",
     "text": [
      "[2, 5, 1, 3]\n"
     ]
    }
   ],
   "source": [
    "list = [2, 1, 3]\n",
    "list.insert(1, 5)\n",
    "print (list)"
   ]
  },
  {
   "cell_type": "code",
   "execution_count": 455,
   "metadata": {},
   "outputs": [
    {
     "name": "stdout",
     "output_type": "stream",
     "text": [
      "[2, 1, 1]\n"
     ]
    }
   ],
   "source": [
    "list = [2, 1, 3,1]\n",
    "list.pop(2)\n",
    "print(list)"
   ]
  },
  {
   "cell_type": "code",
   "execution_count": 456,
   "metadata": {},
   "outputs": [
    {
     "name": "stdout",
     "output_type": "stream",
     "text": [
      "<class 'tuple'>\n"
     ]
    }
   ],
   "source": [
    "#python documentation\n",
    "#Tuples\n",
    "tup = (87, 64, 33, 95, 76)\n",
    "print(type(tup))"
   ]
  },
  {
   "cell_type": "code",
   "execution_count": 457,
   "metadata": {},
   "outputs": [
    {
     "name": "stdout",
     "output_type": "stream",
     "text": [
      "87\n",
      "64\n"
     ]
    }
   ],
   "source": [
    "tup = (87, 64, 33, 95, 76)\n",
    "print(tup[0])\n",
    "print(tup[1])"
   ]
  },
  {
   "cell_type": "code",
   "execution_count": 458,
   "metadata": {},
   "outputs": [
    {
     "name": "stdout",
     "output_type": "stream",
     "text": [
      "()\n",
      "<class 'tuple'>\n"
     ]
    }
   ],
   "source": [
    "tup = ()\n",
    "print(tup)\n",
    "print(type(tup))"
   ]
  },
  {
   "cell_type": "code",
   "execution_count": 459,
   "metadata": {},
   "outputs": [
    {
     "name": "stdout",
     "output_type": "stream",
     "text": [
      "(1,)\n",
      "<class 'tuple'>\n"
     ]
    }
   ],
   "source": [
    "tup = (1,) #single value ke sath comma compulsory\n",
    "print(tup)\n",
    "print(type(tup))"
   ]
  },
  {
   "cell_type": "code",
   "execution_count": 460,
   "metadata": {},
   "outputs": [
    {
     "name": "stdout",
     "output_type": "stream",
     "text": [
      "(2, 3)\n"
     ]
    }
   ],
   "source": [
    "#slicing\n",
    "tup = (1,2,3,4)\n",
    "print(tup[1:3])"
   ]
  },
  {
   "cell_type": "code",
   "execution_count": 461,
   "metadata": {},
   "outputs": [
    {
     "name": "stdout",
     "output_type": "stream",
     "text": [
      "1\n"
     ]
    }
   ],
   "source": [
    "#Tuple Methods\n",
    "tup = (1,2,3,4)\n",
    "print(tup.index(2))"
   ]
  },
  {
   "cell_type": "code",
   "execution_count": 462,
   "metadata": {},
   "outputs": [],
   "source": [
    "#tup = (1,2,3,4)\n",
    "#print(tup.count(2))"
   ]
  },
  {
   "cell_type": "code",
   "execution_count": 463,
   "metadata": {},
   "outputs": [
    {
     "name": "stdout",
     "output_type": "stream",
     "text": [
      "['python', 'tiger', 'anaconda']\n"
     ]
    }
   ],
   "source": [
    "movies = []\n",
    "mov = input(\"enter 1st movie:\")\n",
    "movies.append(mov)\n",
    "mov = input(\"enter 2nd movie:\")\n",
    "movies.append(mov)\n",
    "mov = input(\"enter 3rd movie:\")\n",
    "movies.append(mov)\n",
    "print(movies)                                                                                                                     \n"
   ]
  },
  {
   "cell_type": "code",
   "execution_count": 464,
   "metadata": {},
   "outputs": [
    {
     "name": "stdout",
     "output_type": "stream",
     "text": [
      "palindrome\n"
     ]
    }
   ],
   "source": [
    "list1 = [\"m\",\"a\",\"a\",\"m\"]\n",
    "copy_list1 = list1.copy()\n",
    "copy_list1.reverse()\n",
    "if (copy_list1 == list1):\n",
    "    print(\"palindrome\")\n",
    "else:\n",
    "    print(\"not palindrome\")\n"
   ]
  },
  {
   "cell_type": "code",
   "execution_count": 465,
   "metadata": {},
   "outputs": [
    {
     "name": "stdout",
     "output_type": "stream",
     "text": [
      "['a', 'a', 'a', 'b', 'b', 'c', 'd']\n"
     ]
    }
   ],
   "source": [
    "grade = [\"c\", \"d\", \"a\", \"a\", \"b\", \"b\", \"a\"]\n",
    "grade.sort()\n",
    "print(grade)"
   ]
  },
  {
   "cell_type": "code",
   "execution_count": 466,
   "metadata": {},
   "outputs": [
    {
     "name": "stdout",
     "output_type": "stream",
     "text": [
      "{'key': 'value', 'name': 'Richa', 'learning': 'Coding', 'age': 35, 'is_adult': True, 'marks': 94.4}\n"
     ]
    }
   ],
   "source": [
    "\n",
    "#Dictionary & Set in Python #(key int or float or bool or tuple bhi ho skte h)\n",
    "#Dictionary mutable data type h\n",
    "#Duplicate key not allowed (overwrite)\n",
    "info = {\n",
    "    \"key\" : \"value\",\n",
    "    \"name\" : \"Richa\",\n",
    "    \"learning\": \"Coding\",\n",
    "    \"age\" : 35,\n",
    "    \"is_adult\" : True,\n",
    "    \"marks\" : 94.4\n",
    "}\n",
    "print(info)"
   ]
  },
  {
   "cell_type": "code",
   "execution_count": 467,
   "metadata": {},
   "outputs": [
    {
     "name": "stdout",
     "output_type": "stream",
     "text": [
      "{'name': 'Richa'}\n"
     ]
    }
   ],
   "source": [
    "null_dict = {}\n",
    "null_dict[\"name\"] = \"Richa\"\n",
    "print(null_dict)"
   ]
  },
  {
   "cell_type": "code",
   "execution_count": 468,
   "metadata": {},
   "outputs": [
    {
     "name": "stdout",
     "output_type": "stream",
     "text": [
      "value\n",
      "Richa\n",
      "Coding\n",
      "35\n",
      "True\n",
      "94.4\n"
     ]
    }
   ],
   "source": [
    "info = {\n",
    "    \"key\" : \"value\",\n",
    "    \"name\" : \"Richa\",\n",
    "    \"learning\": \"Coding\",\n",
    "    \"age\" : 35,\n",
    "    \"is_adult\" : True,\n",
    "    \"marks\" : 94.4\n",
    "}\n",
    "print(info[\"key\"])\n",
    "print(info[\"name\"])\n",
    "print(info[\"learning\"])\n",
    "print(info[\"age\"])\n",
    "print(info[\"is_adult\"])\n",
    "print(info[\"marks\"])"
   ]
  },
  {
   "cell_type": "code",
   "execution_count": 469,
   "metadata": {},
   "outputs": [
    {
     "name": "stdout",
     "output_type": "stream",
     "text": [
      "{'key': 'value', 'name': 'richasingh', 'learning': 'Coding', 'age': 35, 'is_adult': True, 'marks': 94.4}\n"
     ]
    }
   ],
   "source": [
    "info = {\n",
    "    \"key\" : \"value\",\n",
    "    \"name\" : \"Richa\",\n",
    "    \"learning\": \"Coding\",\n",
    "    \"age\" : 35,\n",
    "    \"is_adult\" : True,\n",
    "    \"marks\" : 94.4\n",
    "}\n",
    "info[\"name\"] = \"richasingh\"\n",
    "print(info)"
   ]
  },
  {
   "cell_type": "code",
   "execution_count": 470,
   "metadata": {},
   "outputs": [
    {
     "name": "stdout",
     "output_type": "stream",
     "text": [
      "89\n"
     ]
    }
   ],
   "source": [
    "#nested Dictionary\n",
    "student = {\n",
    "    \"name\" : \"Richa\",\n",
    "    \"subjects\" : {\n",
    "        \"phy\" : 94,\n",
    "        \"chem\" : 89,\n",
    "        \"math\" : 56,\n",
    "    }\n",
    "}\n",
    "print (student[\"subjects\"][\"chem\"])"
   ]
  },
  {
   "cell_type": "code",
   "execution_count": 471,
   "metadata": {},
   "outputs": [
    {
     "name": "stdout",
     "output_type": "stream",
     "text": [
      "{'phy': 94, 'chem': 89, 'math': 56}\n"
     ]
    }
   ],
   "source": [
    "student = {\n",
    "    \"name\" : \"Richa\",\n",
    "    \"subjects\" : {\n",
    "        \"phy\" : 94,\n",
    "        \"chem\" : 89,\n",
    "        \"math\" : 56,\n",
    "    }\n",
    "}\n",
    "print (student[\"subjects\"])"
   ]
  },
  {
   "cell_type": "code",
   "execution_count": 472,
   "metadata": {},
   "outputs": [
    {
     "name": "stdout",
     "output_type": "stream",
     "text": [
      "dict_keys(['name', 'subjects'])\n"
     ]
    }
   ],
   "source": [
    "#Dictionary Methods:\n",
    "\n",
    "student = {\n",
    "    \"name\" : \"Richa\",\n",
    "    \"subjects\" : {\n",
    "        \"phy\" : 94,\n",
    "        \"chem\" : 89,\n",
    "        \"math\" : 56,\n",
    "    }\n",
    "}\n",
    "print (student.keys())\n",
    "\n"
   ]
  },
  {
   "cell_type": "code",
   "execution_count": 473,
   "metadata": {},
   "outputs": [
    {
     "name": "stdout",
     "output_type": "stream",
     "text": [
      "2\n",
      "['name', 'subjects']\n",
      "2\n"
     ]
    }
   ],
   "source": [
    "# Ensure no variable shadows the built-in 'list'\n",
    "del list  # Use this if 'list' has been shadowed\n",
    "\n",
    "student = {\n",
    "    \"name\": \"Richa\",\n",
    "    \"subjects\": {\n",
    "        \"Maths\": 90,\n",
    "        \"Science\": 85,\n",
    "        \"English\": 88\n",
    "    }\n",
    "}\n",
    "\n",
    "# Prints the number of top-level keys in the dictionary\n",
    "print(len(student))\n",
    "# Converts the dictionary keys to a list and prints it\n",
    "print(list(student.keys()))\n",
    "# Prints the length of the list of keys\n",
    "print(len(list(student.keys())))\n"
   ]
  },
  {
   "cell_type": "code",
   "execution_count": 474,
   "metadata": {},
   "outputs": [],
   "source": [
    "# student = {\n",
    "#     \"name\" : \"Richa\",\n",
    "#     \"subjects\" : {\n",
    "#         \"phy\" : 94,\n",
    "#         \"chem\" : 89,\n",
    "#         \"math\" : 56,\n",
    "#     }\n",
    "# }\n",
    "# print(len(student))18\n",
    "\n",
    "# print (list(student.keys()))\n",
    "# print (len(list(student.keys())))\n",
    "\n"
   ]
  },
  {
   "cell_type": "code",
   "execution_count": 475,
   "metadata": {},
   "outputs": [
    {
     "name": "stdout",
     "output_type": "stream",
     "text": [
      "dict_values(['Richa', {'phy': 94, 'chem': 89, 'math': 56}])\n"
     ]
    }
   ],
   "source": [
    "student = {\n",
    "    \"name\" : \"Richa\",\n",
    "    \"subjects\" : {\n",
    "        \"phy\" : 94,\n",
    "        \"chem\" : 89,\n",
    "        \"math\" : 56,\n",
    "    }\n",
    "}\n",
    "print(student.values())"
   ]
  },
  {
   "cell_type": "code",
   "execution_count": 476,
   "metadata": {},
   "outputs": [
    {
     "name": "stdout",
     "output_type": "stream",
     "text": [
      "['Richa', {'phy': 94, 'chem': 89, 'math': 56}]\n"
     ]
    }
   ],
   "source": [
    "student = {\n",
    "    \"name\" : \"Richa\",\n",
    "    \"subjects\" : {\n",
    "        \"phy\" : 94,\n",
    "        \"chem\" : 89,\n",
    "        \"math\" : 56,\n",
    "    }\n",
    "}\n",
    "print(list(student.values()))"
   ]
  },
  {
   "cell_type": "code",
   "execution_count": 477,
   "metadata": {},
   "outputs": [
    {
     "name": "stdout",
     "output_type": "stream",
     "text": [
      "dict_items([('name', 'Richa'), ('subjects', {'phy': 94, 'chem': 89, 'math': 56})])\n"
     ]
    }
   ],
   "source": [
    "student = {\n",
    "    \"name\" : \"Richa\",\n",
    "    \"subjects\" : {\n",
    "        \"phy\" : 94,\n",
    "        \"chem\" : 89,\n",
    "        \"math\" : 56,\n",
    "    }\n",
    "}\n",
    "print(student.items())"
   ]
  },
  {
   "cell_type": "code",
   "execution_count": 478,
   "metadata": {},
   "outputs": [
    {
     "name": "stdout",
     "output_type": "stream",
     "text": [
      "[('name', 'Richa'), ('subjects', {'phy': 94, 'chem': 89, 'math': 56})]\n"
     ]
    }
   ],
   "source": [
    "student = {\n",
    "    \"name\" : \"Richa\",\n",
    "    \"subjects\" : {\n",
    "        \"phy\" : 94,\n",
    "        \"chem\" : 89,\n",
    "        \"math\" : 56,\n",
    "    }\n",
    "}\n",
    "print(list(student.items()))"
   ]
  },
  {
   "cell_type": "code",
   "execution_count": 479,
   "metadata": {},
   "outputs": [
    {
     "name": "stdout",
     "output_type": "stream",
     "text": [
      "('name', 'Richa')\n"
     ]
    }
   ],
   "source": [
    "student = {\n",
    "    \"name\" : \"Richa\",\n",
    "    \"subjects\" : {\n",
    "        \"phy\" : 94,\n",
    "        \"chem\" : 89,\n",
    "        \"math\" : 56,\n",
    "    }\n",
    "}\n",
    "pairs =list(student.items())\n",
    "print(pairs[0])\n"
   ]
  },
  {
   "cell_type": "code",
   "execution_count": 480,
   "metadata": {},
   "outputs": [
    {
     "name": "stdout",
     "output_type": "stream",
     "text": [
      "Richa\n",
      "Richa\n",
      "hi\n",
      "welcome to\n",
      "we are learning\n",
      "coding\n"
     ]
    }
   ],
   "source": [
    "student = {\n",
    "    \"name\" : \"Richa\",\n",
    "    \"subjects\" : {\n",
    "        \"phy\" : 94,\n",
    "        \"chem\" : 89,\n",
    "        \"math\" : 56,\n",
    "    }\n",
    "}\n",
    "print(student[\"name\"])\n",
    "print(student.get(\"name\"))\n",
    "print(\"hi\")\n",
    "print(\"welcome to\")\n",
    "print(\"we are learning\")\n",
    "print(\"coding\")"
   ]
  },
  {
   "cell_type": "code",
   "execution_count": 481,
   "metadata": {},
   "outputs": [
    {
     "name": "stdout",
     "output_type": "stream",
     "text": [
      "None\n"
     ]
    }
   ],
   "source": [
    "student = {\n",
    "    \"name\" : \"Richa\",\n",
    "    \"subjects\" : {\n",
    "        \"phy\" : 94,\n",
    "        \"chem\" : 89,\n",
    "        \"math\" : 56,\n",
    "    }\n",
    "}\n",
    "#print(student[\"name2\"]) #error\n",
    "print(student.get(\"name2\")) #no error -> none"
   ]
  },
  {
   "cell_type": "code",
   "execution_count": 482,
   "metadata": {},
   "outputs": [],
   "source": [
    "#print(\"before\")\n",
    "#print(\"after\")"
   ]
  },
  {
   "cell_type": "code",
   "execution_count": 483,
   "metadata": {},
   "outputs": [
    {
     "name": "stdout",
     "output_type": "stream",
     "text": [
      "{'name': 'Richa', 'subjects': {'phy': 94, 'chem': 89, 'math': 56}, 'city': 'delhi'}\n"
     ]
    }
   ],
   "source": [
    "student = {\n",
    "    \"name\" : \"Richa\",\n",
    "    \"subjects\" : {\n",
    "        \"phy\" : 94,\n",
    "        \"chem\" : 89,\n",
    "        \"math\" : 56,\n",
    "    }\n",
    "}\n",
    "student.update({\"city\" : \"delhi\"})\n",
    "print(student)"
   ]
  },
  {
   "cell_type": "code",
   "execution_count": 484,
   "metadata": {},
   "outputs": [
    {
     "name": "stdout",
     "output_type": "stream",
     "text": [
      "{'name': 'Richa', 'subjects': {'phy': 94, 'chem': 89, 'math': 56}, 'city': 'delhi', 'age': 12}\n"
     ]
    }
   ],
   "source": [
    "student = {\n",
    "    \"name\" : \"Richa\",\n",
    "    \"subjects\" : {\n",
    "        \"phy\" : 94,\n",
    "        \"chem\" : 89,\n",
    "        \"math\" : 56,\n",
    "    }\n",
    "}\n",
    "new_dict = {\"city\" : \"delhi\", \"age\": 12}\n",
    "student.update(new_dict)\n",
    "print(student)"
   ]
  },
  {
   "cell_type": "code",
   "execution_count": 485,
   "metadata": {},
   "outputs": [
    {
     "name": "stdout",
     "output_type": "stream",
     "text": [
      "{'name': 'Priya', 'subjects': {'phy': 94, 'chem': 89, 'math': 56}, 'age': 12}\n"
     ]
    }
   ],
   "source": [
    "student = {\n",
    "    \"name\" : \"Richa\",\n",
    "    \"subjects\" : {\n",
    "        \"phy\" : 94,\n",
    "        \"chem\" : 89,\n",
    "        \"math\" : 56,\n",
    "    }\n",
    "}\n",
    "new_dict = {\"name\" : \"Priya\", \"age\": 12}\n",
    "student.update(new_dict)\n",
    "print(student)"
   ]
  },
  {
   "cell_type": "code",
   "execution_count": 486,
   "metadata": {},
   "outputs": [
    {
     "name": "stdout",
     "output_type": "stream",
     "text": [
      "{1, 2, 3, 4, 5, 'hello', 'world'}\n",
      "<class 'set'>\n"
     ]
    }
   ],
   "source": [
    "#Sets (sets are immutable and unordered) (duplicate values not allowed in sets)\n",
    "nums = {1,2,3,4,5, \"hello\", \"world\"}\n",
    "print(nums)\n",
    "print(type(nums))\n",
    "#sets are mutable but sets element are immutable\n"
   ]
  },
  {
   "cell_type": "code",
   "execution_count": 487,
   "metadata": {},
   "outputs": [
    {
     "name": "stdout",
     "output_type": "stream",
     "text": [
      "{1, 2, 'hello'}\n",
      "<class 'set'>\n"
     ]
    }
   ],
   "source": [
    "nums = {1, 2, 2, 2, \"hello\", \"hello\"}\n",
    "print(nums)\n",
    "print(type(nums))"
   ]
  },
  {
   "cell_type": "code",
   "execution_count": 488,
   "metadata": {},
   "outputs": [
    {
     "name": "stdout",
     "output_type": "stream",
     "text": [
      "{1, 2, 'hello', 4, 5}\n",
      "<class 'set'>\n"
     ]
    }
   ],
   "source": [
    "nums = {1, 2, 2, 2, \"hello\", \"hello\", 4 ,5}\n",
    "print(nums)\n",
    "print(type(nums)) "
   ]
  },
  {
   "cell_type": "code",
   "execution_count": 489,
   "metadata": {},
   "outputs": [
    {
     "name": "stdout",
     "output_type": "stream",
     "text": [
      "{1, 2, 'hello', 4, 5}\n",
      "5\n"
     ]
    }
   ],
   "source": [
    "nums = {1, 2, 2, 2, \"hello\", \"hello\", 4 ,5}\n",
    "print(nums)\n",
    "print(len(nums)) #total number of items"
   ]
  },
  {
   "cell_type": "code",
   "execution_count": 490,
   "metadata": {},
   "outputs": [
    {
     "name": "stdout",
     "output_type": "stream",
     "text": [
      "<class 'dict'>\n"
     ]
    }
   ],
   "source": [
    "collection = {}\n",
    "print (type(collection))"
   ]
  },
  {
   "cell_type": "code",
   "execution_count": 491,
   "metadata": {},
   "outputs": [
    {
     "name": "stdout",
     "output_type": "stream",
     "text": [
      "<class 'set'>\n"
     ]
    }
   ],
   "source": [
    "collection = set() #empty set; syntax\n",
    "print(type(collection))"
   ]
  },
  {
   "cell_type": "code",
   "execution_count": 492,
   "metadata": {},
   "outputs": [
    {
     "name": "stdout",
     "output_type": "stream",
     "text": [
      "{1, 2}\n"
     ]
    }
   ],
   "source": [
    "#Sets Methods\n",
    "collection = set()\n",
    "collection.add(1)\n",
    "collection.add(2)\n",
    "collection.add(2)\n",
    "collection.add(1)\n",
    "\n",
    "print((collection))"
   ]
  },
  {
   "cell_type": "code",
   "execution_count": 493,
   "metadata": {},
   "outputs": [
    {
     "name": "stdout",
     "output_type": "stream",
     "text": [
      "{2}\n"
     ]
    }
   ],
   "source": [
    "collection = set()\n",
    "collection.add(1)\n",
    "collection.add(2)\n",
    "collection.add(2)\n",
    "collection.add(1)\n",
    "collection.remove(1)\n",
    "print((collection))"
   ]
  },
  {
   "cell_type": "code",
   "execution_count": 494,
   "metadata": {},
   "outputs": [
    {
     "name": "stdout",
     "output_type": "stream",
     "text": [
      "4\n"
     ]
    }
   ],
   "source": [
    "collection = set()\n",
    "collection.add(1)\n",
    "collection.add(2)\n",
    "collection.add(\"RICHA\")\n",
    "collection.add((1, 2, 3))\n",
    "\n",
    "print(len(collection))"
   ]
  },
  {
   "cell_type": "code",
   "execution_count": 495,
   "metadata": {},
   "outputs": [],
   "source": [
    "#unhashable type mean dict,lists,set"
   ]
  },
  {
   "cell_type": "code",
   "execution_count": 496,
   "metadata": {},
   "outputs": [
    {
     "name": "stdout",
     "output_type": "stream",
     "text": [
      "0\n"
     ]
    }
   ],
   "source": [
    "collection = set()\n",
    "collection.add(1)\n",
    "collection.add(2)\n",
    "collection.add(\"RICHA\")\n",
    "collection.add((1, 2, 3))\n",
    "collection.clear()\n",
    "\n",
    "print(len(collection))"
   ]
  },
  {
   "cell_type": "code",
   "execution_count": 497,
   "metadata": {},
   "outputs": [
    {
     "name": "stdout",
     "output_type": "stream",
     "text": [
      "python\n"
     ]
    }
   ],
   "source": [
    "collection = {\"hello\", \"apnacollege\", \"world\", \"coding\", \"python\"}\n",
    "print(collection.pop())"
   ]
  },
  {
   "cell_type": "code",
   "execution_count": 498,
   "metadata": {},
   "outputs": [
    {
     "name": "stdout",
     "output_type": "stream",
     "text": [
      "{1, 2, 3, 4}\n",
      "{1, 2, 3}\n",
      "{2, 3, 4}\n"
     ]
    }
   ],
   "source": [
    "set1 = {1,2,3}\n",
    "set2 = {2,3,4}\n",
    "print(set1.union(set2)) #1,2,3,4\n",
    "print(set1)\n",
    "print(set2)"
   ]
  },
  {
   "cell_type": "code",
   "execution_count": 499,
   "metadata": {},
   "outputs": [
    {
     "name": "stdout",
     "output_type": "stream",
     "text": [
      "{2, 3}\n",
      "{1, 2, 3}\n",
      "{2, 3, 4}\n"
     ]
    }
   ],
   "source": [
    "set1 = {1,2,3}\n",
    "set2 = {2,3,4}\n",
    "print(set1.intersection(set2)) #2,3\n",
    "print(set1)\n",
    "print(set2)"
   ]
  },
  {
   "cell_type": "code",
   "execution_count": 500,
   "metadata": {},
   "outputs": [
    {
     "name": "stdout",
     "output_type": "stream",
     "text": [
      "{'cat': 'a small animal', 'table': ['a piece of furniture', 'list of facts & figures']}\n"
     ]
    }
   ],
   "source": [
    "#Q1=store following word meanings in a python dictionary:\n",
    "#table: \"a piece of furniture\",\"list of facts & figures\"\n",
    "#cat: \"a small animal\"\n",
    "dictionary = {\n",
    "    \"cat\" : \"a small animal\",\n",
    "    \"table\" : [\"a piece of furniture\", \"list of facts & figures\"]\n",
    "\n",
    "}\n",
    "print(dictionary)"
   ]
  },
  {
   "cell_type": "code",
   "execution_count": 501,
   "metadata": {},
   "outputs": [
    {
     "name": "stdout",
     "output_type": "stream",
     "text": [
      "{'javascript', 'java', 'python', 'c++', 'C++', 'c'}\n",
      "6\n"
     ]
    }
   ],
   "source": [
    "#Q2=you are given a list of subjects for students. assume one classroom is required for 1 subject. how many classroom are needed by all students.\n",
    "subjects = {\n",
    "    \"python\", \"java\", \"c++\", \"python\", \"javascript\", \"java\",\n",
    "\n",
    "    \"python\", \"java\", \"C++\", \"c\"\n",
    "}\n",
    "print(subjects)\n",
    "print(len(subjects))"
   ]
  },
  {
   "cell_type": "code",
   "execution_count": 502,
   "metadata": {},
   "outputs": [
    {
     "name": "stdout",
     "output_type": "stream",
     "text": [
      "Marks dictionary: {'Physics': 89, 'Math': 89, 'Chemistry': 89}\n"
     ]
    }
   ],
   "source": [
    "# Q3: Program to input marks of 3 subjects and store them in a dictionary\n",
    "marks = {}\n",
    "\n",
    "# Input loop for Physics\n",
    "while True:\n",
    "    try:\n",
    "        x = int(input(\"Enter marks for Physics: \"))  # Prompt user for input\n",
    "        marks.update({\"Physics\": x})  # Update dictionary with key-value pair\n",
    "        break  # Exit loop if input is valid\n",
    "    except ValueError:\n",
    "        print(\"Invalid input! Please enter a valid number.\")\n",
    "\n",
    "# Input loop for Math\n",
    "while True:\n",
    "    try:\n",
    "        x = int(input(\"Enter marks for Math: \"))\n",
    "        marks.update({\"Math\": x})\n",
    "        break\n",
    "    except ValueError:\n",
    "        print(\"Invalid input! Please enter a valid number.\")\n",
    "\n",
    "# Input loop for Chemistry\n",
    "while True:\n",
    "    try:\n",
    "        x = int(input(\"Enter marks for Chemistry: \"))\n",
    "        marks.update({\"Chemistry\": x})\n",
    "        break\n",
    "    except ValueError:\n",
    "        print(\"Invalid input! Please enter a valid number.\")\n",
    "\n",
    "# Print the dictionary\n",
    "print(\"Marks dictionary:\", marks)\n"
   ]
  },
  {
   "cell_type": "code",
   "execution_count": 503,
   "metadata": {},
   "outputs": [],
   "source": [
    "# #Q3= WAP to enter of 3 subjects from the user and store them in a dictionary.start with an empty dictionary & add one by one. Use subjects name as key & marks as value.\n",
    "# marks = {}\n",
    "# x = int(input(\"enetr phy :\"))\n",
    "# marks.update({\"phy\":x})\n",
    "\n",
    "# x = int(input(\"enter math:\"))8\n",
    "# marks.update({\"math\":x})\n",
    "\n",
    "# x = int(input(\"enter chem:\"))\n",
    "# marks.update({\"chem\": x})\n",
    "\n",
    "# print(marks)"
   ]
  },
  {
   "cell_type": "code",
   "execution_count": 504,
   "metadata": {},
   "outputs": [
    {
     "name": "stdout",
     "output_type": "stream",
     "text": [
      "{9, '9.0'}\n"
     ]
    }
   ],
   "source": [
    "#Q4= figure out a way to store 9 & 9.0 as separate values in the set.\n",
    "#(you can take help of built-in data types)\n",
    "#1-type\n",
    "values = {9, \"9.0\"}\n",
    "print(values)\n"
   ]
  },
  {
   "cell_type": "code",
   "execution_count": 505,
   "metadata": {},
   "outputs": [
    {
     "name": "stdout",
     "output_type": "stream",
     "text": [
      "{('int', 9), ('float', 9.0)}\n"
     ]
    }
   ],
   "source": [
    "#2-type\n",
    "values = {\n",
    "    (\"float\",9.0),\n",
    "    (\"int\" , 9)\n",
    "}\n",
    "print(values)"
   ]
  },
  {
   "cell_type": "code",
   "execution_count": 506,
   "metadata": {},
   "outputs": [
    {
     "name": "stdout",
     "output_type": "stream",
     "text": [
      "hello\n",
      "hello\n",
      "hello\n",
      "hello\n",
      "hello\n",
      "6\n"
     ]
    }
   ],
   "source": [
    "\n",
    "#Loops\n",
    "#while loops\n",
    "count = 1\n",
    "while count<= 5:\n",
    "    print(\"hello\")\n",
    "    count +=1\n",
    "print(count)"
   ]
  },
  {
   "cell_type": "code",
   "execution_count": 507,
   "metadata": {},
   "outputs": [
    {
     "name": "stdout",
     "output_type": "stream",
     "text": [
      "Richa\n",
      "Richa\n",
      "Richa\n",
      "Richa\n",
      "Richa\n"
     ]
    }
   ],
   "source": [
    "i = 1\n",
    "while i <= 5:\n",
    "    i +=1\n",
    "    print(\"Richa\")"
   ]
  },
  {
   "cell_type": "code",
   "execution_count": 508,
   "metadata": {},
   "outputs": [
    {
     "name": "stdout",
     "output_type": "stream",
     "text": [
      "1\n",
      "2\n",
      "3\n",
      "4\n",
      "5\n"
     ]
    }
   ],
   "source": [
    "#PRINT NO FROM 1 TO 5.\n",
    "i = 1\n",
    "while i <= 5:\n",
    "    print(i)\n",
    "    i +=1\n",
    "\n"
   ]
  },
  {
   "cell_type": "code",
   "execution_count": 509,
   "metadata": {},
   "outputs": [
    {
     "name": "stdout",
     "output_type": "stream",
     "text": [
      "9\n",
      "8\n",
      "7\n",
      "6\n",
      "5\n",
      "4\n",
      "3\n",
      "2\n",
      "1\n"
     ]
    }
   ],
   "source": [
    "n= 123456789\n",
    "i = 9\n",
    "while i >= 1:\n",
    "    print(i)\n",
    "    i -=1"
   ]
  },
  {
   "cell_type": "code",
   "execution_count": 510,
   "metadata": {},
   "outputs": [
    {
     "name": "stdout",
     "output_type": "stream",
     "text": [
      "1\n",
      "2\n",
      "3\n",
      "4\n",
      "5\n",
      "6\n",
      "7\n",
      "8\n",
      "9\n",
      "10\n",
      "11\n",
      "12\n",
      "13\n",
      "14\n",
      "15\n",
      "16\n",
      "17\n",
      "18\n",
      "19\n",
      "20\n",
      "21\n",
      "22\n",
      "23\n",
      "24\n",
      "25\n",
      "26\n",
      "27\n",
      "28\n",
      "29\n",
      "30\n",
      "31\n",
      "32\n",
      "33\n",
      "34\n",
      "35\n",
      "36\n",
      "37\n",
      "38\n",
      "39\n",
      "40\n",
      "41\n",
      "42\n",
      "43\n",
      "44\n",
      "45\n",
      "46\n",
      "47\n",
      "48\n",
      "49\n",
      "50\n",
      "51\n",
      "52\n",
      "53\n",
      "54\n",
      "55\n",
      "56\n",
      "57\n",
      "58\n",
      "59\n",
      "60\n",
      "61\n",
      "62\n",
      "63\n",
      "64\n",
      "65\n",
      "66\n",
      "67\n",
      "68\n",
      "69\n",
      "70\n",
      "71\n",
      "72\n",
      "73\n",
      "74\n",
      "75\n",
      "76\n",
      "77\n",
      "78\n",
      "79\n",
      "80\n",
      "81\n",
      "82\n",
      "83\n",
      "84\n",
      "85\n",
      "86\n",
      "87\n",
      "88\n",
      "89\n",
      "90\n",
      "91\n",
      "92\n",
      "93\n",
      "94\n",
      "95\n",
      "96\n",
      "97\n",
      "98\n",
      "99\n",
      "100\n"
     ]
    }
   ],
   "source": [
    "i = 1\n",
    "while i <= 100: #stopping condition\n",
    "    print(i)\n",
    "    i += 1"
   ]
  },
  {
   "cell_type": "code",
   "execution_count": 511,
   "metadata": {},
   "outputs": [
    {
     "name": "stdout",
     "output_type": "stream",
     "text": [
      "100\n",
      "99\n",
      "98\n",
      "97\n",
      "96\n",
      "95\n",
      "94\n",
      "93\n",
      "92\n",
      "91\n",
      "90\n",
      "89\n",
      "88\n",
      "87\n",
      "86\n",
      "85\n",
      "84\n",
      "83\n",
      "82\n",
      "81\n",
      "80\n",
      "79\n",
      "78\n",
      "77\n",
      "76\n",
      "75\n",
      "74\n",
      "73\n",
      "72\n",
      "71\n",
      "70\n",
      "69\n",
      "68\n",
      "67\n",
      "66\n",
      "65\n",
      "64\n",
      "63\n",
      "62\n",
      "61\n",
      "60\n",
      "59\n",
      "58\n",
      "57\n",
      "56\n",
      "55\n",
      "54\n",
      "53\n",
      "52\n",
      "51\n",
      "50\n",
      "49\n",
      "48\n",
      "47\n",
      "46\n",
      "45\n",
      "44\n",
      "43\n",
      "42\n",
      "41\n",
      "40\n",
      "39\n",
      "38\n",
      "37\n",
      "36\n",
      "35\n",
      "34\n",
      "33\n",
      "32\n",
      "31\n",
      "30\n",
      "29\n",
      "28\n",
      "27\n",
      "26\n",
      "25\n",
      "24\n",
      "23\n",
      "22\n",
      "21\n",
      "20\n",
      "19\n",
      "18\n",
      "17\n",
      "16\n",
      "15\n",
      "14\n",
      "13\n",
      "12\n",
      "11\n",
      "10\n",
      "9\n",
      "8\n",
      "7\n",
      "6\n",
      "5\n",
      "4\n",
      "3\n",
      "2\n",
      "1\n"
     ]
    }
   ],
   "source": [
    "i = 100\n",
    "while i >= 1:\n",
    "    print(i)\n",
    "    i -= 1\n"
   ]
  },
  {
   "cell_type": "code",
   "execution_count": 512,
   "metadata": {},
   "outputs": [
    {
     "name": "stdout",
     "output_type": "stream",
     "text": [
      "3\n",
      "6\n",
      "9\n",
      "12\n",
      "15\n",
      "18\n",
      "21\n",
      "24\n",
      "27\n",
      "30\n"
     ]
    }
   ],
   "source": [
    "i = 1\n",
    "while i <= 10:\n",
    "    print(3*i)\n",
    "    i += 1"
   ]
  },
  {
   "cell_type": "code",
   "execution_count": 513,
   "metadata": {},
   "outputs": [
    {
     "name": "stdout",
     "output_type": "stream",
     "text": [
      "1\n",
      "4\n",
      "9\n",
      "16\n",
      "25\n",
      "36\n",
      "49\n",
      "64\n",
      "81\n",
      "100\n"
     ]
    }
   ],
   "source": [
    "#traverse\n",
    "#print elements of the following list using a loop\n",
    "nums = [1, 4, 9, 16, 25, 36, 49, 64, 81, 100]\n",
    "idx = 0\n",
    "while idx < len(nums):\n",
    "    print(nums[idx])\n",
    "    idx += 1\n"
   ]
  },
  {
   "cell_type": "code",
   "execution_count": 514,
   "metadata": {},
   "outputs": [
    {
     "name": "stdout",
     "output_type": "stream",
     "text": [
      "superman\n",
      "batman\n"
     ]
    }
   ],
   "source": [
    "heroes = [\"superman\", \"batman\"]\n",
    "i =0\n",
    "while i < len (heroes):\n",
    "    print(heroes[i])\n",
    "    i += 1"
   ]
  },
  {
   "cell_type": "code",
   "execution_count": 515,
   "metadata": {},
   "outputs": [
    {
     "name": "stdout",
     "output_type": "stream",
     "text": [
      "1\n",
      "4\n",
      "9\n",
      "16\n",
      "25\n",
      "36\n",
      "49\n",
      "64\n",
      "81\n",
      "100\n"
     ]
    }
   ],
   "source": [
    "#search for a number x in this tuple using loop\n",
    "nums = (1,4,9,16,25,36,49,64,81,100)\n",
    "\n",
    "i = 0 #initialization\n",
    "while i < len (nums):\n",
    "    print(nums[i])\n",
    "    i +=1\n",
    "\n"
   ]
  },
  {
   "cell_type": "code",
   "execution_count": 516,
   "metadata": {},
   "outputs": [
    {
     "name": "stdout",
     "output_type": "stream",
     "text": [
      "found at idx 5\n"
     ]
    }
   ],
   "source": [
    "nums = (1,4,9,16,25,36,49,64,81,100)\n",
    "x = 36\n",
    "i = 0 #initialization\n",
    "while i < len (nums):\n",
    "    if(nums[i] == x):\n",
    "        print(\"found at idx\", i)\n",
    "    i +=1"
   ]
  },
  {
   "cell_type": "code",
   "execution_count": 517,
   "metadata": {},
   "outputs": [
    {
     "name": "stdout",
     "output_type": "stream",
     "text": [
      "finding...\n",
      "finding...\n",
      "finding...\n",
      "finding...\n",
      "finding...\n",
      "found at idx 5\n",
      "finding...\n",
      "finding...\n",
      "finding...\n",
      "finding...\n",
      "found at idx 10\n"
     ]
    }
   ],
   "source": [
    "nums = (1,4,9,16,25,36,49,64,81,100, 36)\n",
    "x = 36\n",
    "i = 0 #initialization\n",
    "while i < len (nums):\n",
    "    if(nums[i] == x):\n",
    "        print(\"found at idx\", i)\n",
    "    else:\n",
    "        print(\"finding...\")\n",
    "    i +=1"
   ]
  },
  {
   "cell_type": "code",
   "execution_count": 518,
   "metadata": {},
   "outputs": [
    {
     "name": "stdout",
     "output_type": "stream",
     "text": [
      "1\n",
      "2\n",
      "3\n"
     ]
    }
   ],
   "source": [
    "#Break & Continue\n",
    "i = 1\n",
    "while i <= 5:\n",
    "    print(i)\n",
    "    if (i == 3):\n",
    "        break\n",
    "    i += 1\n"
   ]
  },
  {
   "cell_type": "code",
   "execution_count": 519,
   "metadata": {},
   "outputs": [
    {
     "name": "stdout",
     "output_type": "stream",
     "text": [
      "finding...\n",
      "finding...\n",
      "finding...\n",
      "finding...\n",
      "finding...\n",
      "found at idx 5\n"
     ]
    }
   ],
   "source": [
    "nums = (1,4,9,16,25,36,49,64,81,100, 36)\n",
    "x = 36\n",
    "i = 0 #initialization\n",
    "while i < len (nums):\n",
    "    if(nums[i] == x):\n",
    "        print(\"found at idx\", i)\n",
    "        break\n",
    "    else:\n",
    "        print(\"finding...\")\n",
    "    i +=1"
   ]
  },
  {
   "cell_type": "code",
   "execution_count": 520,
   "metadata": {},
   "outputs": [
    {
     "name": "stdout",
     "output_type": "stream",
     "text": [
      "0\n",
      "1\n",
      "2\n",
      "4\n",
      "5\n",
      "6\n"
     ]
    }
   ],
   "source": [
    "i =0\n",
    "while i <= 6:\n",
    "    if (i ==3):\n",
    "        i += 1\n",
    "        continue #skip\n",
    "    print(i)\n",
    "    i += 1\n",
    "    "
   ]
  },
  {
   "cell_type": "code",
   "execution_count": 521,
   "metadata": {},
   "outputs": [
    {
     "name": "stdout",
     "output_type": "stream",
     "text": [
      "1\n",
      "2\n",
      "3\n",
      "4\n",
      "5\n"
     ]
    }
   ],
   "source": [
    "#For Loop\n",
    "list = [1,2,3,4,5]\n",
    "for a in list:\n",
    "    print(a)"
   ]
  },
  {
   "cell_type": "code",
   "execution_count": 522,
   "metadata": {},
   "outputs": [
    {
     "name": "stdout",
     "output_type": "stream",
     "text": [
      "potato\n",
      "brijal\n",
      "ladyfinger\n",
      "cucumber\n"
     ]
    }
   ],
   "source": [
    "veggies = [\"potato\", \"brijal\", \"ladyfinger\", \"cucumber\"]\n",
    "for x in veggies:\n",
    "    print(x)"
   ]
  },
  {
   "cell_type": "code",
   "execution_count": 523,
   "metadata": {},
   "outputs": [
    {
     "name": "stdout",
     "output_type": "stream",
     "text": [
      "1\n",
      "2\n",
      "3\n",
      "4\n",
      "2\n",
      "8\n",
      "9\n"
     ]
    }
   ],
   "source": [
    "tup = (1, 2, 3, 4, 2, 8, 9)\n",
    "for num in tup:\n",
    "    print(num)"
   ]
  },
  {
   "cell_type": "code",
   "execution_count": 524,
   "metadata": {},
   "outputs": [
    {
     "name": "stdout",
     "output_type": "stream",
     "text": [
      "R\n",
      "i\n",
      "c\n",
      "h\n",
      "a\n"
     ]
    }
   ],
   "source": [
    "str = \"Richa\"\n",
    "for char in str:\n",
    "    print(char)"
   ]
  },
  {
   "cell_type": "code",
   "execution_count": 525,
   "metadata": {},
   "outputs": [
    {
     "name": "stdout",
     "output_type": "stream",
     "text": [
      "R\n",
      "i\n",
      "c\n",
      "h\n",
      "a\n",
      "END\n"
     ]
    }
   ],
   "source": [
    "str = \"Richa\"\n",
    "for char in str:\n",
    "    print(char)\n",
    "else:\n",
    "    print(\"END\")"
   ]
  },
  {
   "cell_type": "code",
   "execution_count": 526,
   "metadata": {},
   "outputs": [
    {
     "name": "stdout",
     "output_type": "stream",
     "text": [
      "R\n",
      "i\n",
      "c\n",
      "h\n",
      "a\n",
      "END\n"
     ]
    }
   ],
   "source": [
    "str =  \"Richa\"\n",
    "for char in str:\n",
    "    print(char)\n",
    "print(\"END\")"
   ]
  },
  {
   "cell_type": "code",
   "execution_count": 527,
   "metadata": {},
   "outputs": [
    {
     "name": "stdout",
     "output_type": "stream",
     "text": [
      "R\n",
      "i\n",
      "c found\n"
     ]
    }
   ],
   "source": [
    "str = \"Richa\"\n",
    "for char in str:\n",
    "    if (char == 'c'):\n",
    "        print(\"c found\")\n",
    "        break\n",
    "    print(char)\n",
    "else:\n",
    "    print(\"END\")"
   ]
  },
  {
   "cell_type": "code",
   "execution_count": 528,
   "metadata": {},
   "outputs": [
    {
     "name": "stdout",
     "output_type": "stream",
     "text": [
      "R\n",
      "i\n",
      "c found\n",
      "END\n"
     ]
    }
   ],
   "source": [
    "str = \"Richa\"\n",
    "for char in str:\n",
    "    if (char == 'c'):\n",
    "        print(\"c found\")\n",
    "        break\n",
    "    print(char)\n",
    "\n",
    "print(\"END\")"
   ]
  },
  {
   "cell_type": "code",
   "execution_count": 529,
   "metadata": {},
   "outputs": [
    {
     "name": "stdout",
     "output_type": "stream",
     "text": [
      "1\n",
      "4\n",
      "9\n",
      "16\n",
      "25\n",
      "36\n",
      "49\n",
      "64\n",
      "81\n",
      "100\n"
     ]
    }
   ],
   "source": [
    "#Q-1print the elements of thr following list using a loop\n",
    "nums = [1, 4, 9, 16, 25, 36,49 ,64, 81, 100]\n",
    "for el in nums:\n",
    "    print(el)"
   ]
  },
  {
   "cell_type": "code",
   "execution_count": 530,
   "metadata": {},
   "outputs": [
    {
     "name": "stdout",
     "output_type": "stream",
     "text": [
      "number found at idx 6\n",
      "number found at idx 10\n"
     ]
    }
   ],
   "source": [
    "#Q-2search for a number x in this tuple using loop: (called linear search)\n",
    "nums = [1, 4, 9, 16, 25, 36,49 ,64, 81, 100, 49]\n",
    "x = 49\n",
    "idx = 0\n",
    "for el in nums:\n",
    "    if (el == x):\n",
    "        print(\"number found at idx\", idx)\n",
    "    idx += 1"
   ]
  },
  {
   "cell_type": "code",
   "execution_count": 531,
   "metadata": {},
   "outputs": [
    {
     "name": "stdout",
     "output_type": "stream",
     "text": [
      "range(0, 5)\n"
     ]
    }
   ],
   "source": [
    "#range()\n",
    "print(range(5))\n",
    "\n"
   ]
  },
  {
   "cell_type": "code",
   "execution_count": 532,
   "metadata": {},
   "outputs": [
    {
     "name": "stdout",
     "output_type": "stream",
     "text": [
      "0\n",
      "1\n",
      "2\n",
      "3\n"
     ]
    }
   ],
   "source": [
    "seq = range(5)\n",
    "print(seq[0])\n",
    "print(seq[1])\n",
    "print(seq[2])\n",
    "print(seq[3])"
   ]
  },
  {
   "cell_type": "code",
   "execution_count": 533,
   "metadata": {},
   "outputs": [
    {
     "name": "stdout",
     "output_type": "stream",
     "text": [
      "0\n",
      "1\n",
      "2\n",
      "3\n",
      "4\n"
     ]
    }
   ],
   "source": [
    "seq = range(5)\n",
    "for i in seq:\n",
    "    print(i)"
   ]
  },
  {
   "cell_type": "code",
   "execution_count": 534,
   "metadata": {},
   "outputs": [
    {
     "name": "stdout",
     "output_type": "stream",
     "text": [
      "0\n",
      "1\n",
      "2\n",
      "3\n",
      "4\n",
      "5\n",
      "6\n",
      "7\n",
      "8\n",
      "9\n"
     ]
    }
   ],
   "source": [
    "for i in range(10):\n",
    "    print(i)"
   ]
  },
  {
   "cell_type": "code",
   "execution_count": 535,
   "metadata": {},
   "outputs": [
    {
     "name": "stdout",
     "output_type": "stream",
     "text": [
      "0\n",
      "1\n",
      "2\n",
      "3\n",
      "4\n",
      "5\n",
      "6\n",
      "7\n",
      "8\n",
      "9\n"
     ]
    }
   ],
   "source": [
    "for i in range(10): #range(stop)\n",
    "     print(i)"
   ]
  },
  {
   "cell_type": "code",
   "execution_count": 536,
   "metadata": {},
   "outputs": [
    {
     "name": "stdout",
     "output_type": "stream",
     "text": [
      "2\n",
      "3\n",
      "4\n",
      "5\n",
      "6\n",
      "7\n",
      "8\n",
      "9\n"
     ]
    }
   ],
   "source": [
    "for i in range(2,10): #range(start,stop)\n",
    "    print(i)"
   ]
  },
  {
   "cell_type": "code",
   "execution_count": 537,
   "metadata": {},
   "outputs": [
    {
     "name": "stdout",
     "output_type": "stream",
     "text": [
      "2\n",
      "4\n",
      "6\n",
      "8\n"
     ]
    }
   ],
   "source": [
    "for i in range(2,10,2): #range (start, stop, step/gap)\n",
    "    print(i)"
   ]
  },
  {
   "cell_type": "code",
   "execution_count": 538,
   "metadata": {},
   "outputs": [
    {
     "name": "stdout",
     "output_type": "stream",
     "text": [
      "2\n",
      "4\n",
      "6\n",
      "8\n",
      "10\n",
      "12\n",
      "14\n",
      "16\n",
      "18\n",
      "20\n",
      "22\n",
      "24\n",
      "26\n",
      "28\n"
     ]
    }
   ],
   "source": [
    "for i in range(2,30,2):\n",
    "    print(i)"
   ]
  },
  {
   "cell_type": "code",
   "execution_count": 539,
   "metadata": {},
   "outputs": [
    {
     "name": "stdout",
     "output_type": "stream",
     "text": [
      "1\n",
      "2\n",
      "3\n",
      "4\n",
      "5\n",
      "6\n",
      "7\n",
      "8\n",
      "9\n",
      "10\n",
      "11\n",
      "12\n",
      "13\n",
      "14\n",
      "15\n",
      "16\n",
      "17\n",
      "18\n",
      "19\n",
      "20\n",
      "21\n",
      "22\n",
      "23\n",
      "24\n",
      "25\n",
      "26\n",
      "27\n",
      "28\n",
      "29\n",
      "30\n",
      "31\n",
      "32\n",
      "33\n",
      "34\n",
      "35\n",
      "36\n",
      "37\n",
      "38\n",
      "39\n",
      "40\n",
      "41\n",
      "42\n",
      "43\n",
      "44\n",
      "45\n",
      "46\n",
      "47\n",
      "48\n",
      "49\n",
      "50\n",
      "51\n",
      "52\n",
      "53\n",
      "54\n",
      "55\n",
      "56\n",
      "57\n",
      "58\n",
      "59\n",
      "60\n",
      "61\n",
      "62\n",
      "63\n",
      "64\n",
      "65\n",
      "66\n",
      "67\n",
      "68\n",
      "69\n",
      "70\n",
      "71\n",
      "72\n",
      "73\n",
      "74\n",
      "75\n",
      "76\n",
      "77\n",
      "78\n",
      "79\n",
      "80\n",
      "81\n",
      "82\n",
      "83\n",
      "84\n",
      "85\n",
      "86\n",
      "87\n",
      "88\n",
      "89\n",
      "90\n",
      "91\n",
      "92\n",
      "93\n",
      "94\n",
      "95\n",
      "96\n",
      "97\n",
      "98\n",
      "99\n",
      "100\n"
     ]
    }
   ],
   "source": [
    "#Q-1 PRINT no from 1 to 100.\n",
    "for i in range(1,101):\n",
    "    print(i)"
   ]
  },
  {
   "cell_type": "code",
   "execution_count": 540,
   "metadata": {},
   "outputs": [
    {
     "name": "stdout",
     "output_type": "stream",
     "text": [
      "100\n",
      "99\n",
      "98\n",
      "97\n",
      "96\n",
      "95\n",
      "94\n",
      "93\n",
      "92\n",
      "91\n",
      "90\n",
      "89\n",
      "88\n",
      "87\n",
      "86\n",
      "85\n",
      "84\n",
      "83\n",
      "82\n",
      "81\n",
      "80\n",
      "79\n",
      "78\n",
      "77\n",
      "76\n",
      "75\n",
      "74\n",
      "73\n",
      "72\n",
      "71\n",
      "70\n",
      "69\n",
      "68\n",
      "67\n",
      "66\n",
      "65\n",
      "64\n",
      "63\n",
      "62\n",
      "61\n",
      "60\n",
      "59\n",
      "58\n",
      "57\n",
      "56\n",
      "55\n",
      "54\n",
      "53\n",
      "52\n",
      "51\n",
      "50\n",
      "49\n",
      "48\n",
      "47\n",
      "46\n",
      "45\n",
      "44\n",
      "43\n",
      "42\n",
      "41\n",
      "40\n",
      "39\n",
      "38\n",
      "37\n",
      "36\n",
      "35\n",
      "34\n",
      "33\n",
      "32\n",
      "31\n",
      "30\n",
      "29\n",
      "28\n",
      "27\n",
      "26\n",
      "25\n",
      "24\n",
      "23\n",
      "22\n",
      "21\n",
      "20\n",
      "19\n",
      "18\n",
      "17\n",
      "16\n",
      "15\n",
      "14\n",
      "13\n",
      "12\n",
      "11\n",
      "10\n",
      "9\n",
      "8\n",
      "7\n",
      "6\n",
      "5\n",
      "4\n",
      "3\n",
      "2\n",
      "1\n"
     ]
    }
   ],
   "source": [
    "#Q-2 PRINT no from 100 to 1.\n",
    "for i in range(100,0,-1):\n",
    "    print(i)"
   ]
  },
  {
   "cell_type": "code",
   "execution_count": 541,
   "metadata": {},
   "outputs": [
    {
     "name": "stdout",
     "output_type": "stream",
     "text": [
      "89\n",
      "178\n",
      "267\n",
      "356\n",
      "445\n",
      "534\n",
      "623\n",
      "712\n",
      "801\n",
      "890\n"
     ]
    }
   ],
   "source": [
    "#Q-3 PRINT the multiplication table of a number n.\n",
    "n = int(input(\"enter a no\"))\n",
    "for i in range(1,11):\n",
    "    print(n*i)"
   ]
  },
  {
   "cell_type": "code",
   "execution_count": 542,
   "metadata": {},
   "outputs": [
    {
     "name": "stdout",
     "output_type": "stream",
     "text": [
      "some useful work\n"
     ]
    }
   ],
   "source": [
    "#PASS STATEMENT\n",
    "for i in range(5):\n",
    "    pass\n",
    "    #empty\n",
    "print(\"some useful work\")"
   ]
  },
  {
   "cell_type": "code",
   "execution_count": 543,
   "metadata": {},
   "outputs": [
    {
     "name": "stdout",
     "output_type": "stream",
     "text": [
      "some useful work\n"
     ]
    }
   ],
   "source": [
    "for i in range(5):\n",
    "    pass\n",
    "if i > 5:\n",
    "    pass\n",
    "print(\"some useful work\")"
   ]
  },
  {
   "cell_type": "code",
   "execution_count": 544,
   "metadata": {},
   "outputs": [
    {
     "name": "stdout",
     "output_type": "stream",
     "text": [
      "total sum = 1\n",
      "total sum = 3\n",
      "total sum = 6\n",
      "total sum = 10\n"
     ]
    }
   ],
   "source": [
    "#Q-WAP to find the sum of first n natural no.\n",
    "n = 4\n",
    " \n",
    "sum = 0\n",
    "for i in range( 1,n+1):\n",
    "    sum += i\n",
    "    print(\"total sum =\",sum)\n",
    "\n"
   ]
  },
  {
   "cell_type": "code",
   "execution_count": 545,
   "metadata": {},
   "outputs": [
    {
     "name": "stdout",
     "output_type": "stream",
     "text": [
      "total sum 28\n"
     ]
    }
   ],
   "source": [
    "n = 7\n",
    "sum = 0\n",
    "i = 1\n",
    "while i <= n:\n",
    "    sum +=i\n",
    "    i += 1\n",
    "print(\"total sum\", sum)"
   ]
  },
  {
   "cell_type": "code",
   "execution_count": 546,
   "metadata": {},
   "outputs": [
    {
     "name": "stdout",
     "output_type": "stream",
     "text": [
      "factorial = 120\n"
     ]
    }
   ],
   "source": [
    "#Q-WAP to find the factorial of first n numbers.\n",
    "n = 5\n",
    "fact = 1\n",
    "i = 1\n",
    "while i <= n:\n",
    "    fact *= i\n",
    "    i += 1\n",
    "print(\"factorial =\", fact)"
   ]
  },
  {
   "cell_type": "code",
   "execution_count": 547,
   "metadata": {},
   "outputs": [
    {
     "name": "stdout",
     "output_type": "stream",
     "text": [
      "factorial = 120\n"
     ]
    }
   ],
   "source": [
    "n = 5\n",
    "fact = 1\n",
    "for i in range(1, n+1):\n",
    "    fact *= i\n",
    "print(\"factorial =\",fact)"
   ]
  },
  {
   "cell_type": "code",
   "execution_count": 548,
   "metadata": {},
   "outputs": [
    {
     "name": "stdout",
     "output_type": "stream",
     "text": [
      "15\n"
     ]
    },
    {
     "data": {
      "text/plain": [
       "15"
      ]
     },
     "execution_count": 548,
     "metadata": {},
     "output_type": "execute_result"
    }
   ],
   "source": [
    "\n",
    "#Functions\n",
    "def calc_sum(a,b):\n",
    "    sum = a + b\n",
    "    print(sum)\n",
    "    return sum\n",
    "\n",
    "\n",
    "calc_sum(5,10) #function call\n",
    "\n"
   ]
  },
  {
   "cell_type": "code",
   "execution_count": 549,
   "metadata": {},
   "outputs": [
    {
     "name": "stdout",
     "output_type": "stream",
     "text": [
      "12\n"
     ]
    },
    {
     "data": {
      "text/plain": [
       "12"
      ]
     },
     "execution_count": 549,
     "metadata": {},
     "output_type": "execute_result"
    }
   ],
   "source": [
    "calc_sum(2, 10)"
   ]
  },
  {
   "cell_type": "code",
   "execution_count": 550,
   "metadata": {},
   "outputs": [
    {
     "name": "stdout",
     "output_type": "stream",
     "text": [
      "29\n"
     ]
    },
    {
     "data": {
      "text/plain": [
       "29"
      ]
     },
     "execution_count": 550,
     "metadata": {},
     "output_type": "execute_result"
    }
   ],
   "source": [
    "calc_sum(12, 17)"
   ]
  },
  {
   "cell_type": "code",
   "execution_count": 551,
   "metadata": {},
   "outputs": [],
   "source": [
    "def calc_sum(a,b):\n",
    "    return a + b\n"
   ]
  },
  {
   "cell_type": "code",
   "execution_count": 552,
   "metadata": {},
   "outputs": [
    {
     "name": "stdout",
     "output_type": "stream",
     "text": [
      "4\n"
     ]
    }
   ],
   "source": [
    "sum = calc_sum(1 ,3)\n",
    "print(sum)"
   ]
  },
  {
   "cell_type": "code",
   "execution_count": 553,
   "metadata": {},
   "outputs": [
    {
     "name": "stdout",
     "output_type": "stream",
     "text": [
      "2399\n"
     ]
    }
   ],
   "source": [
    "def calc_sum(a , b):\n",
    "    return a+b\n",
    "sum = calc_sum(178, 2221)\n",
    "print(sum)"
   ]
  },
  {
   "cell_type": "code",
   "execution_count": 554,
   "metadata": {},
   "outputs": [
    {
     "name": "stdout",
     "output_type": "stream",
     "text": [
      "3\n"
     ]
    }
   ],
   "source": [
    "#function defination\n",
    "def calc_sum(a, b): #parameters\n",
    "    return a + b\n",
    "sum = calc_sum(1, 2) #function call; arguments\n",
    "print(sum)"
   ]
  },
  {
   "cell_type": "code",
   "execution_count": 555,
   "metadata": {},
   "outputs": [
    {
     "name": "stdout",
     "output_type": "stream",
     "text": [
      "hello\n",
      "hello\n",
      "hello\n",
      "hello\n",
      "hello\n"
     ]
    }
   ],
   "source": [
    "def print_hello():\n",
    "    print(\"hello\")\n",
    "\n",
    "print_hello()\n",
    "print_hello()\n",
    "print_hello()\n",
    "print_hello()\n",
    "print_hello()"
   ]
  },
  {
   "cell_type": "code",
   "execution_count": 556,
   "metadata": {},
   "outputs": [
    {
     "name": "stdout",
     "output_type": "stream",
     "text": [
      "hello\n",
      "None\n"
     ]
    }
   ],
   "source": [
    "output = print_hello()\n",
    "print(output)"
   ]
  },
  {
   "cell_type": "code",
   "execution_count": 557,
   "metadata": {},
   "outputs": [
    {
     "name": "stdout",
     "output_type": "stream",
     "text": [
      "hello\n",
      "None\n"
     ]
    }
   ],
   "source": [
    "def print_hello():\n",
    "    print(\"hello\")\n",
    "\n",
    "\n",
    "output = print_hello()\n",
    "print(output)"
   ]
  },
  {
   "cell_type": "code",
   "execution_count": 558,
   "metadata": {},
   "outputs": [
    {
     "name": "stdout",
     "output_type": "stream",
     "text": [
      "96.66666666666667\n"
     ]
    },
    {
     "data": {
      "text/plain": [
       "96.66666666666667"
      ]
     },
     "execution_count": 558,
     "metadata": {},
     "output_type": "execute_result"
    }
   ],
   "source": [
    "#average of 3 numbers\n",
    "def calc_avg(a, b, c):\n",
    "    sum = a + b + c\n",
    "    avg = sum/3\n",
    "    print(avg)\n",
    "    return avg\n",
    "\n",
    "\n",
    "calc_avg(98, 97,95)\n",
    "\n"
   ]
  },
  {
   "cell_type": "code",
   "execution_count": 559,
   "metadata": {},
   "outputs": [
    {
     "name": "stdout",
     "output_type": "stream",
     "text": [
      "RichaSingh PriyaSingh\n"
     ]
    }
   ],
   "source": [
    "print(\"RichaSingh\",\"PriyaSingh\") #sep = \" \""
   ]
  },
  {
   "cell_type": "code",
   "execution_count": 560,
   "metadata": {},
   "outputs": [
    {
     "name": "stdout",
     "output_type": "stream",
     "text": [
      "apnacollege\n",
      "shradhakhapra\n"
     ]
    }
   ],
   "source": [
    "print(\"apnacollege\")#sep = \" \"\n",
    "print(\"shradhakhapra\") #end = \"\\n\""
   ]
  },
  {
   "cell_type": "code",
   "execution_count": 561,
   "metadata": {},
   "outputs": [
    {
     "name": "stdout",
     "output_type": "stream",
     "text": [
      "apnacollege shradhakhapra\n"
     ]
    }
   ],
   "source": [
    "print(\"apnacollege\", end= \" \")#sep = \" \"\n",
    "print(\"shradhakhapra\") "
   ]
  },
  {
   "cell_type": "code",
   "execution_count": 562,
   "metadata": {},
   "outputs": [
    {
     "name": "stdout",
     "output_type": "stream",
     "text": [
      "apnacollege$shradhakhapra\n"
     ]
    }
   ],
   "source": [
    "print(\"apnacollege\", end= \"$\")#sep = \" \"\n",
    "print(\"shradhakhapra\") "
   ]
  },
  {
   "cell_type": "code",
   "execution_count": 563,
   "metadata": {},
   "outputs": [
    {
     "name": "stdout",
     "output_type": "stream",
     "text": [
      "6\n"
     ]
    },
    {
     "data": {
      "text/plain": [
       "6"
      ]
     },
     "execution_count": 563,
     "metadata": {},
     "output_type": "execute_result"
    }
   ],
   "source": [
    "#default parameters\n",
    "def cal_prod(a=2, b=3):\n",
    "    print(a * b)\n",
    "    return a * b\n",
    "\n",
    "cal_prod()\n",
    "\n",
    "\n"
   ]
  },
  {
   "cell_type": "code",
   "execution_count": 564,
   "metadata": {},
   "outputs": [
    {
     "name": "stdout",
     "output_type": "stream",
     "text": [
      "2\n"
     ]
    },
    {
     "data": {
      "text/plain": [
       "2"
      ]
     },
     "execution_count": 564,
     "metadata": {},
     "output_type": "execute_result"
    }
   ],
   "source": [
    "def cal_prod(a, b=2):\n",
    "    print(a * b)\n",
    "    return a * b\n",
    "cal_prod(1)"
   ]
  },
  {
   "cell_type": "code",
   "execution_count": 565,
   "metadata": {},
   "outputs": [
    {
     "name": "stdout",
     "output_type": "stream",
     "text": [
      "thor\n",
      "ironman\n",
      "thor ironman 6\n",
      "4\n"
     ]
    }
   ],
   "source": [
    "#Q=1 WAF to print the length of a list. (list is the parameter)\n",
    "cities = [\"delhi\", \"gurgaon\", \"noida\", \"pune\", \"mumbai\", \"chennai\"]\n",
    "heroes = [\"thor\" , \"ironman\", \"captain america\" , \"shaktiman\"]\n",
    "print(heroes[0], end = \"\\n\")\n",
    "print(heroes[1], end = \"\\n\")\n",
    "print(heroes[0], end = \" \")\n",
    "print(heroes[1], end = \" \")\n",
    "def print_len(list):\n",
    "    print(len(list))\n",
    "print_len(cities)\n",
    "print_len(heroes)"
   ]
  },
  {
   "cell_type": "code",
   "execution_count": 566,
   "metadata": {},
   "outputs": [
    {
     "name": "stdout",
     "output_type": "stream",
     "text": [
      "thor ironman captain america shaktiman "
     ]
    }
   ],
   "source": [
    "#Q=2 WAF to print the elements of a list in a single line. (list is the parameter)\n",
    "cities = [\"delhi\", \"gurgaon\", \"noida\", \"pune\", \"mumbai\", \"chennai\"]\n",
    "heroes = [\"thor\" , \"ironman\", \"captain america\" , \"shaktiman\"]\n",
    "def print_list(list):\n",
    "    print(len(list))\n",
    "\n",
    "def print_list(list):\n",
    "    for item in list:\n",
    "        print(item, end = \" \")\n",
    "\n",
    "print_list(heroes)\n"
   ]
  },
  {
   "cell_type": "code",
   "execution_count": 567,
   "metadata": {},
   "outputs": [
    {
     "name": "stdout",
     "output_type": "stream",
     "text": [
      "720\n"
     ]
    }
   ],
   "source": [
    "#Q=3 WAF to find the factorial of n.(n is the parameter)\n",
    "n  = 5\n",
    "def cal_fact(n):\n",
    "    fact = 1\n",
    "\n",
    "    for i in range (1, n+1):\n",
    "      fact *= i\n",
    "    print(fact) \n",
    "cal_fact(6)\n",
    "\n"
   ]
  },
  {
   "cell_type": "code",
   "execution_count": 568,
   "metadata": {},
   "outputs": [
    {
     "name": "stdout",
     "output_type": "stream",
     "text": [
      "73 USD= 6059 INR\n"
     ]
    }
   ],
   "source": [
    "#Q=4 WAF to convert USD to INR.\n",
    "def converter(usd_val):\n",
    "    inr_val = usd_val * 83\n",
    "    print(usd_val, \"USD=\" , inr_val, \"INR\")\n",
    "converter (73)"
   ]
  }
 ],
 "metadata": {
  "kernelspec": {
   "display_name": "base",
   "language": "python",
   "name": "python3"
  },
  "language_info": {
   "codemirror_mode": {
    "name": "ipython",
    "version": 3
   },
   "file_extension": ".py",
   "mimetype": "text/x-python",
   "name": "python",
   "nbconvert_exporter": "python",
   "pygments_lexer": "ipython3",
   "version": "3.12.3"
  }
 },
 "nbformat": 4,
 "nbformat_minor": 2
}
